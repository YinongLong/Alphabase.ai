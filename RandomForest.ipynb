{
 "cells": [
  {
   "cell_type": "markdown",
   "metadata": {
    "deletable": true,
    "editable": true
   },
   "source": [
    "# 将整个文件分为四个大块，分别是载入数据部分、处理特征部分、训练及测试模型部分、输出结果部分"
   ]
  },
  {
   "cell_type": "markdown",
   "metadata": {
    "deletable": true,
    "editable": true
   },
   "source": [
    "# 载入数据"
   ]
  },
  {
   "cell_type": "code",
   "execution_count": 1,
   "metadata": {
    "collapsed": false,
    "deletable": true,
    "editable": true
   },
   "outputs": [
    {
     "name": "stderr",
     "output_type": "stream",
     "text": [
      "/Users/Yinong/anaconda/lib/python2.7/site-packages/sklearn/cross_validation.py:44: DeprecationWarning: This module was deprecated in version 0.18 in favor of the model_selection module into which all the refactored classes and functions are moved. Also note that the interface of the new CV iterators are different from that of this module. This module will be removed in 0.20.\n",
      "  \"This module will be removed in 0.20.\", DeprecationWarning)\n"
     ]
    }
   ],
   "source": [
    "from __future__ import print_function\n",
    "\n",
    "import pandas as pd\n",
    "import numpy as np\n",
    "import os\n",
    "\n",
    "import xgboost as xgb\n",
    "\n",
    "from sklearn.model_selection import train_test_split\n",
    "from sklearn.metrics import log_loss\n",
    "from sklearn.ensemble import RandomForestClassifier"
   ]
  },
  {
   "cell_type": "code",
   "execution_count": 2,
   "metadata": {
    "collapsed": true,
    "deletable": true,
    "editable": true
   },
   "outputs": [],
   "source": [
    "data_dir = './Competition_170330/'"
   ]
  },
  {
   "cell_type": "code",
   "execution_count": 3,
   "metadata": {
    "collapsed": true,
    "deletable": true,
    "editable": true
   },
   "outputs": [],
   "source": [
    "train_path = os.path.join(data_dir, 'train.csv')\n",
    "test_path = os.path.join(data_dir, 'test.csv')"
   ]
  },
  {
   "cell_type": "code",
   "execution_count": 4,
   "metadata": {
    "collapsed": false,
    "deletable": true,
    "editable": true
   },
   "outputs": [],
   "source": [
    "train_raw_data = pd.read_csv(train_path)\n",
    "test_raw_data = pd.read_csv(test_path)"
   ]
  },
  {
   "cell_type": "code",
   "execution_count": 5,
   "metadata": {
    "collapsed": false,
    "deletable": true,
    "editable": true
   },
   "outputs": [
    {
     "data": {
      "text/html": [
       "<div>\n",
       "<table border=\"1\" class=\"dataframe\">\n",
       "  <thead>\n",
       "    <tr style=\"text-align: right;\">\n",
       "      <th></th>\n",
       "      <th>Feature_1</th>\n",
       "      <th>Feature_2</th>\n",
       "      <th>Feature_3</th>\n",
       "      <th>Feature_4</th>\n",
       "      <th>Feature_5</th>\n",
       "      <th>Feature_6</th>\n",
       "      <th>Feature_7</th>\n",
       "      <th>Feature_8</th>\n",
       "      <th>Feature_9</th>\n",
       "      <th>Feature_10</th>\n",
       "      <th>...</th>\n",
       "      <th>Feature_47_flag</th>\n",
       "      <th>Feature_48_flag</th>\n",
       "      <th>Feature_49_flag</th>\n",
       "      <th>Feature_50_flag</th>\n",
       "      <th>Feature_51_flag</th>\n",
       "      <th>Feature_52_flag</th>\n",
       "      <th>Feature_53_flag</th>\n",
       "      <th>Feature_54_flag</th>\n",
       "      <th>Feature_55_flag</th>\n",
       "      <th>Target</th>\n",
       "    </tr>\n",
       "  </thead>\n",
       "  <tbody>\n",
       "    <tr>\n",
       "      <th>0</th>\n",
       "      <td>1.216284</td>\n",
       "      <td>0.676507</td>\n",
       "      <td>0.792257</td>\n",
       "      <td>0.216828</td>\n",
       "      <td>0.002462</td>\n",
       "      <td>-0.009971</td>\n",
       "      <td>-0.109648</td>\n",
       "      <td>0.664535</td>\n",
       "      <td>0.782265</td>\n",
       "      <td>-0.010646</td>\n",
       "      <td>...</td>\n",
       "      <td>0</td>\n",
       "      <td>1</td>\n",
       "      <td>0</td>\n",
       "      <td>1</td>\n",
       "      <td>0</td>\n",
       "      <td>0</td>\n",
       "      <td>0</td>\n",
       "      <td>0</td>\n",
       "      <td>1</td>\n",
       "      <td>1</td>\n",
       "    </tr>\n",
       "    <tr>\n",
       "      <th>1</th>\n",
       "      <td>-0.232558</td>\n",
       "      <td>-0.269440</td>\n",
       "      <td>0.080897</td>\n",
       "      <td>0.046138</td>\n",
       "      <td>-0.108725</td>\n",
       "      <td>0.216557</td>\n",
       "      <td>-0.109648</td>\n",
       "      <td>1.624962</td>\n",
       "      <td>0.009902</td>\n",
       "      <td>-0.009909</td>\n",
       "      <td>...</td>\n",
       "      <td>0</td>\n",
       "      <td>0</td>\n",
       "      <td>0</td>\n",
       "      <td>0</td>\n",
       "      <td>0</td>\n",
       "      <td>0</td>\n",
       "      <td>0</td>\n",
       "      <td>1</td>\n",
       "      <td>1</td>\n",
       "      <td>0</td>\n",
       "    </tr>\n",
       "    <tr>\n",
       "      <th>2</th>\n",
       "      <td>0.208814</td>\n",
       "      <td>-0.008880</td>\n",
       "      <td>0.418653</td>\n",
       "      <td>-0.054095</td>\n",
       "      <td>-0.524811</td>\n",
       "      <td>-0.017276</td>\n",
       "      <td>-0.109648</td>\n",
       "      <td>-0.323712</td>\n",
       "      <td>-1.235586</td>\n",
       "      <td>-0.010646</td>\n",
       "      <td>...</td>\n",
       "      <td>0</td>\n",
       "      <td>1</td>\n",
       "      <td>0</td>\n",
       "      <td>0</td>\n",
       "      <td>0</td>\n",
       "      <td>0</td>\n",
       "      <td>0</td>\n",
       "      <td>1</td>\n",
       "      <td>1</td>\n",
       "      <td>0</td>\n",
       "    </tr>\n",
       "    <tr>\n",
       "      <th>3</th>\n",
       "      <td>0.743907</td>\n",
       "      <td>-0.849146</td>\n",
       "      <td>-0.733933</td>\n",
       "      <td>-0.164306</td>\n",
       "      <td>-0.388252</td>\n",
       "      <td>-0.015602</td>\n",
       "      <td>-0.109648</td>\n",
       "      <td>-1.436586</td>\n",
       "      <td>NaN</td>\n",
       "      <td>0.000796</td>\n",
       "      <td>...</td>\n",
       "      <td>1</td>\n",
       "      <td>0</td>\n",
       "      <td>0</td>\n",
       "      <td>0</td>\n",
       "      <td>0</td>\n",
       "      <td>1</td>\n",
       "      <td>0</td>\n",
       "      <td>0</td>\n",
       "      <td>0</td>\n",
       "      <td>0</td>\n",
       "    </tr>\n",
       "    <tr>\n",
       "      <th>4</th>\n",
       "      <td>0.322668</td>\n",
       "      <td>0.085196</td>\n",
       "      <td>-0.044906</td>\n",
       "      <td>-0.048319</td>\n",
       "      <td>NaN</td>\n",
       "      <td>-0.013313</td>\n",
       "      <td>-0.109648</td>\n",
       "      <td>-1.535841</td>\n",
       "      <td>NaN</td>\n",
       "      <td>-0.010596</td>\n",
       "      <td>...</td>\n",
       "      <td>1</td>\n",
       "      <td>1</td>\n",
       "      <td>0</td>\n",
       "      <td>0</td>\n",
       "      <td>1</td>\n",
       "      <td>1</td>\n",
       "      <td>0</td>\n",
       "      <td>1</td>\n",
       "      <td>0</td>\n",
       "      <td>0</td>\n",
       "    </tr>\n",
       "  </tbody>\n",
       "</table>\n",
       "<p>5 rows × 111 columns</p>\n",
       "</div>"
      ],
      "text/plain": [
       "   Feature_1  Feature_2  Feature_3  Feature_4  Feature_5  Feature_6  \\\n",
       "0   1.216284   0.676507   0.792257   0.216828   0.002462  -0.009971   \n",
       "1  -0.232558  -0.269440   0.080897   0.046138  -0.108725   0.216557   \n",
       "2   0.208814  -0.008880   0.418653  -0.054095  -0.524811  -0.017276   \n",
       "3   0.743907  -0.849146  -0.733933  -0.164306  -0.388252  -0.015602   \n",
       "4   0.322668   0.085196  -0.044906  -0.048319        NaN  -0.013313   \n",
       "\n",
       "   Feature_7  Feature_8  Feature_9  Feature_10   ...    Feature_47_flag  \\\n",
       "0  -0.109648   0.664535   0.782265   -0.010646   ...                  0   \n",
       "1  -0.109648   1.624962   0.009902   -0.009909   ...                  0   \n",
       "2  -0.109648  -0.323712  -1.235586   -0.010646   ...                  0   \n",
       "3  -0.109648  -1.436586        NaN    0.000796   ...                  1   \n",
       "4  -0.109648  -1.535841        NaN   -0.010596   ...                  1   \n",
       "\n",
       "   Feature_48_flag  Feature_49_flag  Feature_50_flag  Feature_51_flag  \\\n",
       "0                1                0                1                0   \n",
       "1                0                0                0                0   \n",
       "2                1                0                0                0   \n",
       "3                0                0                0                0   \n",
       "4                1                0                0                1   \n",
       "\n",
       "   Feature_52_flag  Feature_53_flag  Feature_54_flag  Feature_55_flag  Target  \n",
       "0                0                0                0                1       1  \n",
       "1                0                0                1                1       0  \n",
       "2                0                0                1                1       0  \n",
       "3                1                0                0                0       0  \n",
       "4                1                0                1                0       0  \n",
       "\n",
       "[5 rows x 111 columns]"
      ]
     },
     "execution_count": 5,
     "metadata": {},
     "output_type": "execute_result"
    }
   ],
   "source": [
    "train_raw_data.head()"
   ]
  },
  {
   "cell_type": "code",
   "execution_count": 6,
   "metadata": {
    "collapsed": false,
    "deletable": true,
    "editable": true
   },
   "outputs": [
    {
     "data": {
      "text/html": [
       "<div>\n",
       "<table border=\"1\" class=\"dataframe\">\n",
       "  <thead>\n",
       "    <tr style=\"text-align: right;\">\n",
       "      <th></th>\n",
       "      <th>ID</th>\n",
       "      <th>Feature_1</th>\n",
       "      <th>Feature_2</th>\n",
       "      <th>Feature_3</th>\n",
       "      <th>Feature_4</th>\n",
       "      <th>Feature_5</th>\n",
       "      <th>Feature_6</th>\n",
       "      <th>Feature_7</th>\n",
       "      <th>Feature_8</th>\n",
       "      <th>Feature_9</th>\n",
       "      <th>...</th>\n",
       "      <th>Feature_46_flag</th>\n",
       "      <th>Feature_47_flag</th>\n",
       "      <th>Feature_48_flag</th>\n",
       "      <th>Feature_49_flag</th>\n",
       "      <th>Feature_50_flag</th>\n",
       "      <th>Feature_51_flag</th>\n",
       "      <th>Feature_52_flag</th>\n",
       "      <th>Feature_53_flag</th>\n",
       "      <th>Feature_54_flag</th>\n",
       "      <th>Feature_55_flag</th>\n",
       "    </tr>\n",
       "  </thead>\n",
       "  <tbody>\n",
       "    <tr>\n",
       "      <th>0</th>\n",
       "      <td>34163</td>\n",
       "      <td>0.294855</td>\n",
       "      <td>-0.096278</td>\n",
       "      <td>-0.170840</td>\n",
       "      <td>-0.178637</td>\n",
       "      <td>0.267999</td>\n",
       "      <td>-0.017179</td>\n",
       "      <td>-0.109648</td>\n",
       "      <td>0.086023</td>\n",
       "      <td>NaN</td>\n",
       "      <td>...</td>\n",
       "      <td>0</td>\n",
       "      <td>0</td>\n",
       "      <td>0</td>\n",
       "      <td>0</td>\n",
       "      <td>0</td>\n",
       "      <td>0</td>\n",
       "      <td>0</td>\n",
       "      <td>0</td>\n",
       "      <td>1</td>\n",
       "      <td>1</td>\n",
       "    </tr>\n",
       "    <tr>\n",
       "      <th>1</th>\n",
       "      <td>21507</td>\n",
       "      <td>-0.216876</td>\n",
       "      <td>-0.430887</td>\n",
       "      <td>-0.138086</td>\n",
       "      <td>-0.013533</td>\n",
       "      <td>NaN</td>\n",
       "      <td>-0.023970</td>\n",
       "      <td>-0.109648</td>\n",
       "      <td>-1.671952</td>\n",
       "      <td>NaN</td>\n",
       "      <td>...</td>\n",
       "      <td>0</td>\n",
       "      <td>1</td>\n",
       "      <td>1</td>\n",
       "      <td>0</td>\n",
       "      <td>1</td>\n",
       "      <td>1</td>\n",
       "      <td>0</td>\n",
       "      <td>1</td>\n",
       "      <td>1</td>\n",
       "      <td>1</td>\n",
       "    </tr>\n",
       "    <tr>\n",
       "      <th>2</th>\n",
       "      <td>1360</td>\n",
       "      <td>-0.256933</td>\n",
       "      <td>-0.485702</td>\n",
       "      <td>0.185486</td>\n",
       "      <td>0.038258</td>\n",
       "      <td>-0.295331</td>\n",
       "      <td>-0.025732</td>\n",
       "      <td>-0.109648</td>\n",
       "      <td>-1.653569</td>\n",
       "      <td>NaN</td>\n",
       "      <td>...</td>\n",
       "      <td>0</td>\n",
       "      <td>1</td>\n",
       "      <td>1</td>\n",
       "      <td>0</td>\n",
       "      <td>0</td>\n",
       "      <td>1</td>\n",
       "      <td>1</td>\n",
       "      <td>0</td>\n",
       "      <td>0</td>\n",
       "      <td>1</td>\n",
       "    </tr>\n",
       "    <tr>\n",
       "      <th>3</th>\n",
       "      <td>53945</td>\n",
       "      <td>0.117295</td>\n",
       "      <td>-0.184288</td>\n",
       "      <td>-0.435384</td>\n",
       "      <td>-0.167559</td>\n",
       "      <td>NaN</td>\n",
       "      <td>-0.024499</td>\n",
       "      <td>-0.109648</td>\n",
       "      <td>-1.666576</td>\n",
       "      <td>NaN</td>\n",
       "      <td>...</td>\n",
       "      <td>0</td>\n",
       "      <td>1</td>\n",
       "      <td>1</td>\n",
       "      <td>0</td>\n",
       "      <td>1</td>\n",
       "      <td>1</td>\n",
       "      <td>0</td>\n",
       "      <td>1</td>\n",
       "      <td>1</td>\n",
       "      <td>1</td>\n",
       "    </tr>\n",
       "    <tr>\n",
       "      <th>4</th>\n",
       "      <td>22547</td>\n",
       "      <td>0.181915</td>\n",
       "      <td>0.328964</td>\n",
       "      <td>0.215342</td>\n",
       "      <td>-0.126309</td>\n",
       "      <td>-0.195803</td>\n",
       "      <td>-0.021019</td>\n",
       "      <td>-0.109648</td>\n",
       "      <td>-0.691598</td>\n",
       "      <td>NaN</td>\n",
       "      <td>...</td>\n",
       "      <td>0</td>\n",
       "      <td>1</td>\n",
       "      <td>0</td>\n",
       "      <td>0</td>\n",
       "      <td>0</td>\n",
       "      <td>0</td>\n",
       "      <td>1</td>\n",
       "      <td>0</td>\n",
       "      <td>0</td>\n",
       "      <td>1</td>\n",
       "    </tr>\n",
       "  </tbody>\n",
       "</table>\n",
       "<p>5 rows × 111 columns</p>\n",
       "</div>"
      ],
      "text/plain": [
       "      ID  Feature_1  Feature_2  Feature_3  Feature_4  Feature_5  Feature_6  \\\n",
       "0  34163   0.294855  -0.096278  -0.170840  -0.178637   0.267999  -0.017179   \n",
       "1  21507  -0.216876  -0.430887  -0.138086  -0.013533        NaN  -0.023970   \n",
       "2   1360  -0.256933  -0.485702   0.185486   0.038258  -0.295331  -0.025732   \n",
       "3  53945   0.117295  -0.184288  -0.435384  -0.167559        NaN  -0.024499   \n",
       "4  22547   0.181915   0.328964   0.215342  -0.126309  -0.195803  -0.021019   \n",
       "\n",
       "   Feature_7  Feature_8  Feature_9       ...         Feature_46_flag  \\\n",
       "0  -0.109648   0.086023        NaN       ...                       0   \n",
       "1  -0.109648  -1.671952        NaN       ...                       0   \n",
       "2  -0.109648  -1.653569        NaN       ...                       0   \n",
       "3  -0.109648  -1.666576        NaN       ...                       0   \n",
       "4  -0.109648  -0.691598        NaN       ...                       0   \n",
       "\n",
       "   Feature_47_flag  Feature_48_flag  Feature_49_flag  Feature_50_flag  \\\n",
       "0                0                0                0                0   \n",
       "1                1                1                0                1   \n",
       "2                1                1                0                0   \n",
       "3                1                1                0                1   \n",
       "4                1                0                0                0   \n",
       "\n",
       "   Feature_51_flag  Feature_52_flag  Feature_53_flag  Feature_54_flag  \\\n",
       "0                0                0                0                1   \n",
       "1                1                0                1                1   \n",
       "2                1                1                0                0   \n",
       "3                1                0                1                1   \n",
       "4                0                1                0                0   \n",
       "\n",
       "   Feature_55_flag  \n",
       "0                1  \n",
       "1                1  \n",
       "2                1  \n",
       "3                1  \n",
       "4                1  \n",
       "\n",
       "[5 rows x 111 columns]"
      ]
     },
     "execution_count": 6,
     "metadata": {},
     "output_type": "execute_result"
    }
   ],
   "source": [
    "test_raw_data.head()"
   ]
  },
  {
   "cell_type": "code",
   "execution_count": 7,
   "metadata": {
    "collapsed": false,
    "deletable": true,
    "editable": true
   },
   "outputs": [
    {
     "data": {
      "text/plain": [
       "16558"
      ]
     },
     "execution_count": 7,
     "metadata": {},
     "output_type": "execute_result"
    }
   ],
   "source": [
    "test_raw_data.Feature_9.isnull().sum()"
   ]
  },
  {
   "cell_type": "markdown",
   "metadata": {
    "deletable": true,
    "editable": true
   },
   "source": [
    "# 特征处理"
   ]
  },
  {
   "cell_type": "code",
   "execution_count": 8,
   "metadata": {
    "collapsed": false,
    "deletable": true,
    "editable": true
   },
   "outputs": [],
   "source": [
    "# 因为除了XGBoost以外的一些模型需要数据中不存在NaN值，所以需要对数据中的NaN值进行处理\n",
    "for col_index in train_raw_data.columns:\n",
    "    median = np.nanmean(train_raw_data[col_index].values)\n",
    "    train_raw_data[col_index].fillna(median, inplace=True)\n",
    "for col_index in test_raw_data.columns:\n",
    "    median = np.nanmean(test_raw_data[col_index].values)\n",
    "    test_raw_data[col_index].fillna(median, inplace=True)"
   ]
  },
  {
   "cell_type": "code",
   "execution_count": 9,
   "metadata": {
    "collapsed": true,
    "deletable": true,
    "editable": true
   },
   "outputs": [],
   "source": [
    "train_X = train_raw_data.values[:, :-1]\n",
    "train_y = train_raw_data.values[:, -1]"
   ]
  },
  {
   "cell_type": "code",
   "execution_count": 10,
   "metadata": {
    "collapsed": false,
    "deletable": true,
    "editable": true
   },
   "outputs": [],
   "source": [
    "# 检验数据集的后五分之一的类别分布和整个数据集的类别分布，因为金融数据有时间上的关系，所以需要强调接近预测时间段的数据\n",
    "def check_class_distribution(ratio=0.2):\n",
    "    \"\"\"\n",
    "    检查数据的类别分布\n",
    "    \"\"\"\n",
    "    global train_y\n",
    "    ratio_num = int(train_y.shape[0] * ratio)\n",
    "    ratio_data = train_y[-ratio_num:]\n",
    "    ratio_data = np.array(ratio_data, dtype=np.int32)\n",
    "    \n",
    "    all_data = np.array(train_y, dtype=np.int32)\n",
    "    \n",
    "    ratio_distribution = np.bincount(ratio_data)\n",
    "    all_distribution = np.bincount(all_data)\n",
    "    \n",
    "    print('Last segament data distribution: ', ratio_distribution)\n",
    "    print('All data distribution: ', all_distribution)\n",
    "    \n",
    "def data_augmentation(ratio=0.2):\n",
    "    \"\"\"\n",
    "    对数据集的最后一部分数据进行复制\"强调\"\n",
    "    \"\"\"\n",
    "    global train_X, train_y\n",
    "    data_num = int(train_y.shape[0] * ratio)\n",
    "    data_X = train_X[-data_num:]\n",
    "    data_y = train_y[-data_num:]\n",
    "    train_X = np.concatenate((train_X, data_X), axis=0)\n",
    "    train_y = np.concatenate((train_y, data_y), axis=0)"
   ]
  },
  {
   "cell_type": "code",
   "execution_count": 11,
   "metadata": {
    "collapsed": false,
    "deletable": true,
    "editable": true
   },
   "outputs": [
    {
     "name": "stdout",
     "output_type": "stream",
     "text": [
      "Last segament data distribution:  [15140 15045]\n",
      "All data distribution:  [75680 75247]\n"
     ]
    }
   ],
   "source": [
    "check_class_distribution()"
   ]
  },
  {
   "cell_type": "code",
   "execution_count": 12,
   "metadata": {
    "collapsed": false,
    "deletable": true,
    "editable": true
   },
   "outputs": [],
   "source": [
    "data_augmentation()"
   ]
  },
  {
   "cell_type": "code",
   "execution_count": 13,
   "metadata": {
    "collapsed": true,
    "deletable": true,
    "editable": true
   },
   "outputs": [],
   "source": [
    "test_X = test_raw_data.values[:, 1:]\n",
    "test_ids = test_raw_data.values[:, 0]"
   ]
  },
  {
   "cell_type": "code",
   "execution_count": 14,
   "metadata": {
    "collapsed": true,
    "deletable": true,
    "editable": true
   },
   "outputs": [],
   "source": [
    "X_train, X_test, y_train, y_test = train_test_split(train_X, train_y, test_size=0.3, random_state=1)"
   ]
  },
  {
   "cell_type": "markdown",
   "metadata": {
    "deletable": true,
    "editable": true
   },
   "source": [
    "# 训练以及测试模型"
   ]
  },
  {
   "cell_type": "code",
   "execution_count": 15,
   "metadata": {
    "collapsed": true,
    "deletable": true,
    "editable": true
   },
   "outputs": [],
   "source": [
    "params = {'max_depth': 3,\n",
    "          'eta': 0.1126,\n",
    "          'silent': 1,\n",
    "          'objective': 'binary:logistic'}\n",
    "num_rounds = 100\n",
    "\n",
    "# 使用XGBoost进行模型的训练\n",
    "def train_xgboost_model(train_data, train_label, test_data=None, test_label=None):\n",
    "    dtrain = xgb.DMatrix(train_data, label=train_label)\n",
    "    dtest = xgb.DMatrix(test_data)\n",
    "    bst = xgb.train(params, dtrain, num_rounds)\n",
    "    preds = bst.predict(dtest)\n",
    "    \n",
    "    loss = log_loss(test_label, preds)\n",
    "    print('Log loss : %f' % loss)\n",
    "    \n",
    "def use_xgboost_model(train_data, train_label, test_data):\n",
    "    dtrain = xgb.DMatrix(train_data, label=train_label)\n",
    "    dtest = xgb.DMatrix(test_data)\n",
    "    bst = xgb.train(params, dtrain, num_rounds)\n",
    "    preds = bst.predict(dtest)\n",
    "    return preds"
   ]
  },
  {
   "cell_type": "code",
   "execution_count": 16,
   "metadata": {
    "collapsed": false,
    "deletable": true,
    "editable": true
   },
   "outputs": [
    {
     "name": "stdout",
     "output_type": "stream",
     "text": [
      "Log loss : 0.691328\n"
     ]
    }
   ],
   "source": [
    "train_xgboost_model(X_train, y_train, X_test, y_test)"
   ]
  },
  {
   "cell_type": "code",
   "execution_count": null,
   "metadata": {
    "collapsed": true,
    "deletable": true,
    "editable": true
   },
   "outputs": [],
   "source": [
    "# Log loss : 0.692892  10    2\n",
    "# Log loss : 0.692811  20    2\n",
    "# Log loss : 0.692685  100   2\n",
    "# Log loss : 0.692735  150   2\n",
    "# Log loss : 0.692882  150   3"
   ]
  },
  {
   "cell_type": "code",
   "execution_count": 146,
   "metadata": {
    "collapsed": true,
    "deletable": true,
    "editable": true
   },
   "outputs": [],
   "source": [
    "preds = use_xgboost_model(train_X, train_y, test_X)"
   ]
  },
  {
   "cell_type": "code",
   "execution_count": 17,
   "metadata": {
    "collapsed": true,
    "deletable": true,
    "editable": true
   },
   "outputs": [],
   "source": [
    "n_estimators = 1000\n",
    "max_depth = 1\n",
    "n_jobs = -1\n",
    "verbose = 1\n",
    "\n",
    "# 使用Random Forest模型进行训练\n",
    "def train_random_forest(train_data, train_label, test_data=None, test_label=None):\n",
    "    clf = RandomForestClassifier(n_estimators=n_estimators, max_depth=max_depth, n_jobs=n_jobs, verbose=verbose)\n",
    "    clf.fit(train_data, train_label)\n",
    "    preds = clf.predict_proba(test_data)\n",
    "    preds = preds[:, 1]\n",
    "    \n",
    "    loss = log_loss(test_label, preds)\n",
    "    print('Log loss : %f' % loss)\n",
    "\n",
    "def use_random_forest(train_data, train_label, test_data):\n",
    "    clf = RandomForestClassifier(n_estimators=n_estimators, max_depth=max_depth, n_jobs=n_jobs, verbose=verbose)\n",
    "    clf.fit(train_data, train_label)\n",
    "    preds = clf.predict_proba(test_data)\n",
    "    preds = preds[:, 1]\n",
    "    return preds"
   ]
  },
  {
   "cell_type": "code",
   "execution_count": 18,
   "metadata": {
    "collapsed": false,
    "deletable": true,
    "editable": true
   },
   "outputs": [
    {
     "name": "stderr",
     "output_type": "stream",
     "text": [
      "[Parallel(n_jobs=-1)]: Done  42 tasks      | elapsed:    1.3s\n",
      "[Parallel(n_jobs=-1)]: Done 192 tasks      | elapsed:    5.9s\n",
      "[Parallel(n_jobs=-1)]: Done 442 tasks      | elapsed:   13.5s\n",
      "[Parallel(n_jobs=-1)]: Done 792 tasks      | elapsed:   24.0s\n",
      "[Parallel(n_jobs=-1)]: Done 1000 out of 1000 | elapsed:   30.3s finished\n",
      "[Parallel(n_jobs=4)]: Done  42 tasks      | elapsed:    0.1s\n",
      "[Parallel(n_jobs=4)]: Done 192 tasks      | elapsed:    0.4s\n",
      "[Parallel(n_jobs=4)]: Done 442 tasks      | elapsed:    0.9s\n",
      "[Parallel(n_jobs=4)]: Done 792 tasks      | elapsed:    1.7s\n",
      "[Parallel(n_jobs=4)]: Done 1000 out of 1000 | elapsed:    2.1s finished\n"
     ]
    },
    {
     "name": "stdout",
     "output_type": "stream",
     "text": [
      "Log loss : 0.693019\n"
     ]
    }
   ],
   "source": [
    "train_random_forest(X_train, y_train, X_test, y_test)"
   ]
  },
  {
   "cell_type": "code",
   "execution_count": 59,
   "metadata": {
    "collapsed": true,
    "deletable": true,
    "editable": true
   },
   "outputs": [],
   "source": [
    "# Log loss : 0.692715\n",
    "# Log loss : 0.693095  1   2000\n",
    "# Log loss : 0.693096  1   1000"
   ]
  },
  {
   "cell_type": "code",
   "execution_count": 138,
   "metadata": {
    "collapsed": false,
    "deletable": true,
    "editable": true
   },
   "outputs": [
    {
     "name": "stderr",
     "output_type": "stream",
     "text": [
      "[Parallel(n_jobs=-1)]: Done  42 tasks      | elapsed:    7.2s\n",
      "[Parallel(n_jobs=-1)]: Done 192 tasks      | elapsed:   31.8s\n",
      "[Parallel(n_jobs=-1)]: Done 442 tasks      | elapsed:  1.1min\n",
      "[Parallel(n_jobs=-1)]: Done 500 out of 500 | elapsed:  1.3min finished\n",
      "[Parallel(n_jobs=4)]: Done  42 tasks      | elapsed:    0.1s\n",
      "[Parallel(n_jobs=4)]: Done 192 tasks      | elapsed:    0.5s\n",
      "[Parallel(n_jobs=4)]: Done 442 tasks      | elapsed:    1.1s\n",
      "[Parallel(n_jobs=4)]: Done 500 out of 500 | elapsed:    1.3s finished\n"
     ]
    }
   ],
   "source": [
    "preds = use_random_forest(train_X, train_y, test_X)"
   ]
  },
  {
   "cell_type": "code",
   "execution_count": 21,
   "metadata": {
    "collapsed": false,
    "deletable": true,
    "editable": true
   },
   "outputs": [],
   "source": [
    "# 对Random Forest和XGBoost模型的预测结果进行线性Blending\n",
    "def blending_model(train_data, train_label, test_data, test_label):\n",
    "    dtrain = xgb.DMatrix(train_data, label=train_label)\n",
    "    dtest = xgb.DMatrix(test_data)\n",
    "    bst = xgb.train(params, dtrain, num_rounds)\n",
    "    preds_xgb = bst.predict(dtest)\n",
    "    \n",
    "    clf = RandomForestClassifier(n_estimators=n_estimators, max_depth=max_depth, n_jobs=n_jobs, verbose=verbose)\n",
    "    clf.fit(train_data, train_label)\n",
    "    preds_rf = clf.predict_proba(test_data)\n",
    "    preds_rf = preds_rf[:, 1]\n",
    "    \n",
    "    preds = preds_xgb * 0.3 + preds_rf * 0.7\n",
    "    \n",
    "    loss = log_loss(test_label, preds)\n",
    "    print('Log loss : %f' % loss)\n",
    "    \n",
    "def use_blending_model(train_data, train_label, test_data):\n",
    "    dtrain = xgb.DMatrix(train_data, label=train_label)\n",
    "    dtest = xgb.DMatrix(test_data)\n",
    "    bst = xgb.train(params, dtrain, num_rounds)\n",
    "    preds_xgb = bst.predict(dtest)\n",
    "    \n",
    "    clf = RandomForestClassifier(n_estimators=n_estimators, max_depth=max_depth, n_jobs=n_jobs, verbose=verbose)\n",
    "    clf.fit(train_data, train_label)\n",
    "    preds_rf = clf.predict_proba(test_data)\n",
    "    preds_rf = preds_rf[:, 1]\n",
    "    \n",
    "    preds = preds_xgb * 0.3 + preds_rf * 0.7\n",
    "    return preds"
   ]
  },
  {
   "cell_type": "code",
   "execution_count": 20,
   "metadata": {
    "collapsed": false,
    "deletable": true,
    "editable": true
   },
   "outputs": [
    {
     "name": "stderr",
     "output_type": "stream",
     "text": [
      "[Parallel(n_jobs=-1)]: Done  42 tasks      | elapsed:    1.3s\n",
      "[Parallel(n_jobs=-1)]: Done 192 tasks      | elapsed:    5.9s\n",
      "[Parallel(n_jobs=-1)]: Done 442 tasks      | elapsed:   13.8s\n",
      "[Parallel(n_jobs=-1)]: Done 792 tasks      | elapsed:   24.2s\n",
      "[Parallel(n_jobs=-1)]: Done 1000 out of 1000 | elapsed:   30.4s finished\n",
      "[Parallel(n_jobs=4)]: Done  42 tasks      | elapsed:    0.1s\n",
      "[Parallel(n_jobs=4)]: Done 192 tasks      | elapsed:    0.5s\n",
      "[Parallel(n_jobs=4)]: Done 442 tasks      | elapsed:    1.0s\n",
      "[Parallel(n_jobs=4)]: Done 792 tasks      | elapsed:    1.8s\n",
      "[Parallel(n_jobs=4)]: Done 1000 out of 1000 | elapsed:    2.3s finished\n"
     ]
    },
    {
     "name": "stdout",
     "output_type": "stream",
     "text": [
      "Log loss : 0.692317\n"
     ]
    }
   ],
   "source": [
    "blending_model(X_train, y_train, X_test, y_test)"
   ]
  },
  {
   "cell_type": "code",
   "execution_count": null,
   "metadata": {
    "collapsed": true,
    "deletable": true,
    "editable": true
   },
   "outputs": [],
   "source": [
    "# Log loss : 0.692715\n",
    "# Log loss : 0.692939\n",
    "# Log loss : 0.692650 "
   ]
  },
  {
   "cell_type": "code",
   "execution_count": 22,
   "metadata": {
    "collapsed": false,
    "deletable": true,
    "editable": true
   },
   "outputs": [
    {
     "name": "stderr",
     "output_type": "stream",
     "text": [
      "[Parallel(n_jobs=-1)]: Done  42 tasks      | elapsed:    1.6s\n",
      "[Parallel(n_jobs=-1)]: Done 192 tasks      | elapsed:    7.4s\n",
      "[Parallel(n_jobs=-1)]: Done 442 tasks      | elapsed:   16.9s\n",
      "[Parallel(n_jobs=-1)]: Done 792 tasks      | elapsed:   30.1s\n",
      "[Parallel(n_jobs=-1)]: Done 1000 out of 1000 | elapsed:   37.9s finished\n",
      "[Parallel(n_jobs=4)]: Done  42 tasks      | elapsed:    0.1s\n",
      "[Parallel(n_jobs=4)]: Done 192 tasks      | elapsed:    0.4s\n",
      "[Parallel(n_jobs=4)]: Done 442 tasks      | elapsed:    0.8s\n",
      "[Parallel(n_jobs=4)]: Done 792 tasks      | elapsed:    1.4s\n",
      "[Parallel(n_jobs=4)]: Done 1000 out of 1000 | elapsed:    1.9s finished\n"
     ]
    }
   ],
   "source": [
    "preds = use_blending_model(train_X, train_y, test_X)"
   ]
  },
  {
   "cell_type": "markdown",
   "metadata": {
    "deletable": true,
    "editable": true
   },
   "source": [
    "# 输出结果"
   ]
  },
  {
   "cell_type": "code",
   "execution_count": 23,
   "metadata": {
    "collapsed": true,
    "deletable": true,
    "editable": true
   },
   "outputs": [],
   "source": [
    "result_path = os.path.join(data_dir, 'prediction.csv')"
   ]
  },
  {
   "cell_type": "code",
   "execution_count": 24,
   "metadata": {
    "collapsed": true,
    "deletable": true,
    "editable": true
   },
   "outputs": [],
   "source": [
    "result_file = open(result_path, 'w')"
   ]
  },
  {
   "cell_type": "code",
   "execution_count": 25,
   "metadata": {
    "collapsed": false,
    "deletable": true,
    "editable": true
   },
   "outputs": [],
   "source": [
    "head = '\"ID\",\"Target\"\\n'\n",
    "result_file.write(head)"
   ]
  },
  {
   "cell_type": "code",
   "execution_count": 26,
   "metadata": {
    "collapsed": true,
    "deletable": true,
    "editable": true
   },
   "outputs": [],
   "source": [
    "for s_id, s_pro in zip(test_ids, preds):\n",
    "    line = str(int(s_id)) + ',' + str(s_pro) + '\\n'\n",
    "    result_file.write(line)"
   ]
  },
  {
   "cell_type": "code",
   "execution_count": 27,
   "metadata": {
    "collapsed": true,
    "deletable": true,
    "editable": true
   },
   "outputs": [],
   "source": [
    "result_file.close()"
   ]
  },
  {
   "cell_type": "code",
   "execution_count": null,
   "metadata": {
    "collapsed": true,
    "deletable": true,
    "editable": true
   },
   "outputs": [],
   "source": []
  }
 ],
 "metadata": {
  "anaconda-cloud": {},
  "kernelspec": {
   "display_name": "Python 2",
   "language": "python",
   "name": "python2"
  },
  "language_info": {
   "codemirror_mode": {
    "name": "ipython",
    "version": 2
   },
   "file_extension": ".py",
   "mimetype": "text/x-python",
   "name": "python",
   "nbconvert_exporter": "python",
   "pygments_lexer": "ipython2",
   "version": "2.7.12"
  }
 },
 "nbformat": 4,
 "nbformat_minor": 1
}
