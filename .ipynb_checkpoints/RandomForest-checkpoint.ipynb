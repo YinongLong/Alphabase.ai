{
 "cells": [
  {
   "cell_type": "code",
   "execution_count": 1,
   "metadata": {
    "collapsed": false,
    "deletable": true,
    "editable": true
   },
   "outputs": [],
   "source": [
    "from __future__ import print_function\n",
    "import pandas as pd\n",
    "import numpy as np\n",
    "import sklearn\n",
    "import os"
   ]
  },
  {
   "cell_type": "code",
   "execution_count": 73,
   "metadata": {
    "collapsed": true,
    "deletable": true,
    "editable": true
   },
   "outputs": [],
   "source": [
    "data_dir = 'E:\\\\dataset\\\\Competition_170323'"
   ]
  },
  {
   "cell_type": "code",
   "execution_count": 74,
   "metadata": {
    "collapsed": true,
    "deletable": true,
    "editable": true
   },
   "outputs": [],
   "source": [
    "train_path = os.path.join(data_dir, 'train.csv')\n",
    "test_path = os.path.join(data_dir, 'test.csv')"
   ]
  },
  {
   "cell_type": "code",
   "execution_count": 75,
   "metadata": {
    "collapsed": false,
    "deletable": true,
    "editable": true
   },
   "outputs": [],
   "source": [
    "train_raw_data = pd.read_csv(train_path)\n",
    "test_raw_data = pd.read_csv(test_path)"
   ]
  },
  {
   "cell_type": "markdown",
   "metadata": {
    "deletable": true,
    "editable": true
   },
   "source": [
    "# 尝试使用每一个属性的均值来填充缺失值"
   ]
  },
  {
   "cell_type": "code",
   "execution_count": 76,
   "metadata": {
    "collapsed": false,
    "deletable": true,
    "editable": true
   },
   "outputs": [],
   "source": [
    "for col_name in train_raw_data.columns:\n",
    "    if not col_name.endswith('flag'):\n",
    "        train_raw_data[col_name].fillna(train_raw_data[col_name].mean(), inplace=True)"
   ]
  },
  {
   "cell_type": "code",
   "execution_count": 77,
   "metadata": {
    "collapsed": true,
    "deletable": true,
    "editable": true
   },
   "outputs": [],
   "source": [
    "for col_name in test_raw_data.columns:\n",
    "    if (col_name != 'ID') and (not col_name.endswith('flag')):\n",
    "        test_raw_data[col_name].fillna(test_raw_data[col_name].mean(), inplace=True)"
   ]
  },
  {
   "cell_type": "code",
   "execution_count": 78,
   "metadata": {
    "collapsed": true,
    "deletable": true,
    "editable": true
   },
   "outputs": [],
   "source": [
    "from sklearn.model_selection import train_test_split\n",
    "from sklearn.ensemble import RandomForestClassifier"
   ]
  },
  {
   "cell_type": "code",
   "execution_count": 79,
   "metadata": {
    "collapsed": true,
    "deletable": true,
    "editable": true
   },
   "outputs": [],
   "source": [
    "train_X = train_raw_data.ix[:, :-1].values\n",
    "train_y = train_raw_data.ix[:, -1].values"
   ]
  },
  {
   "cell_type": "code",
   "execution_count": 80,
   "metadata": {
    "collapsed": true
   },
   "outputs": [],
   "source": [
    "from sklearn import preprocessing"
   ]
  },
  {
   "cell_type": "code",
   "execution_count": 81,
   "metadata": {
    "collapsed": true
   },
   "outputs": [],
   "source": [
    "test_X = test_raw_data.ix[:, 1:].values\n",
    "test_ids = test_raw_data.ix[:, 0].values"
   ]
  },
  {
   "cell_type": "code",
   "execution_count": 82,
   "metadata": {
    "collapsed": false
   },
   "outputs": [],
   "source": [
    "train_X = preprocessing.minmax_scale(train_X)\n",
    "test_X = preprocessing.minmax_scale(test_X)"
   ]
  },
  {
   "cell_type": "code",
   "execution_count": 27,
   "metadata": {
    "collapsed": true
   },
   "outputs": [],
   "source": [
    "train_X_pre = train_X[:, 0:55]\n",
    "test_X_pre = test_X[:, 0:55]"
   ]
  },
  {
   "cell_type": "code",
   "execution_count": 83,
   "metadata": {
    "collapsed": true
   },
   "outputs": [],
   "source": [
    "X_train, X_test, y_train, y_test = train_test_split(train_X, train_y, test_size=0.3, random_state=1)"
   ]
  },
  {
   "cell_type": "code",
   "execution_count": 84,
   "metadata": {
    "collapsed": true,
    "deletable": true,
    "editable": true
   },
   "outputs": [],
   "source": [
    "clf = RandomForestClassifier(n_estimators=200, oob_score=True, n_jobs=-1, random_state=1, verbose=1)"
   ]
  },
  {
   "cell_type": "code",
   "execution_count": 85,
   "metadata": {
    "collapsed": false,
    "deletable": true,
    "editable": true
   },
   "outputs": [
    {
     "ename": "JoblibMemoryError",
     "evalue": "JoblibMemoryError\n___________________________________________________________________________\nMultiprocessing exception:\n...........................................................................\nD:\\Anaconda2\\lib\\runpy.py in _run_module_as_main(mod_name='ipykernel.__main__', alter_argv=1)\n    169     pkg_name = mod_name.rpartition('.')[0]\n    170     main_globals = sys.modules[\"__main__\"].__dict__\n    171     if alter_argv:\n    172         sys.argv[0] = fname\n    173     return _run_code(code, main_globals, None,\n--> 174                      \"__main__\", fname, loader, pkg_name)\n        fname = r'D:\\Anaconda2\\lib\\site-packages\\ipykernel\\__main__.py'\n        loader = <pkgutil.ImpLoader instance>\n        pkg_name = 'ipykernel'\n    175 \n    176 def run_module(mod_name, init_globals=None,\n    177                run_name=None, alter_sys=False):\n    178     \"\"\"Execute a module's code without importing it\n\n...........................................................................\nD:\\Anaconda2\\lib\\runpy.py in _run_code(code=<code object <module> at 0000000002D1BD30, file ...lib\\site-packages\\ipykernel\\__main__.py\", line 1>, run_globals={'__builtins__': <module '__builtin__' (built-in)>, '__doc__': None, '__file__': r'D:\\Anaconda2\\lib\\site-packages\\ipykernel\\__main__.py', '__loader__': <pkgutil.ImpLoader instance>, '__name__': '__main__', '__package__': 'ipykernel', 'app': <module 'ipykernel.kernelapp' from 'D:\\Anaconda2\\lib\\site-packages\\ipykernel\\kernelapp.pyc'>}, init_globals=None, mod_name='__main__', mod_fname=r'D:\\Anaconda2\\lib\\site-packages\\ipykernel\\__main__.py', mod_loader=<pkgutil.ImpLoader instance>, pkg_name='ipykernel')\n     67         run_globals.update(init_globals)\n     68     run_globals.update(__name__ = mod_name,\n     69                        __file__ = mod_fname,\n     70                        __loader__ = mod_loader,\n     71                        __package__ = pkg_name)\n---> 72     exec code in run_globals\n        code = <code object <module> at 0000000002D1BD30, file ...lib\\site-packages\\ipykernel\\__main__.py\", line 1>\n        run_globals = {'__builtins__': <module '__builtin__' (built-in)>, '__doc__': None, '__file__': r'D:\\Anaconda2\\lib\\site-packages\\ipykernel\\__main__.py', '__loader__': <pkgutil.ImpLoader instance>, '__name__': '__main__', '__package__': 'ipykernel', 'app': <module 'ipykernel.kernelapp' from 'D:\\Anaconda2\\lib\\site-packages\\ipykernel\\kernelapp.pyc'>}\n     73     return run_globals\n     74 \n     75 def _run_module_code(code, init_globals=None,\n     76                     mod_name=None, mod_fname=None,\n\n...........................................................................\nD:\\Anaconda2\\lib\\site-packages\\ipykernel\\__main__.py in <module>()\n      1 \n      2 \n----> 3 \n      4 if __name__ == '__main__':\n      5     from ipykernel import kernelapp as app\n      6     app.launch_new_instance()\n      7 \n      8 \n      9 \n     10 \n\n...........................................................................\nD:\\Anaconda2\\lib\\site-packages\\traitlets\\config\\application.py in launch_instance(cls=<class 'ipykernel.kernelapp.IPKernelApp'>, argv=None, **kwargs={})\n    648 \n    649         If a global instance already exists, this reinitializes and starts it\n    650         \"\"\"\n    651         app = cls.instance(**kwargs)\n    652         app.initialize(argv)\n--> 653         app.start()\n        app.start = <bound method IPKernelApp.start of <ipykernel.kernelapp.IPKernelApp object>>\n    654 \n    655 #-----------------------------------------------------------------------------\n    656 # utility functions, for convenience\n    657 #-----------------------------------------------------------------------------\n\n...........................................................................\nD:\\Anaconda2\\lib\\site-packages\\ipykernel\\kernelapp.py in start(self=<ipykernel.kernelapp.IPKernelApp object>)\n    469             return self.subapp.start()\n    470         if self.poller is not None:\n    471             self.poller.start()\n    472         self.kernel.start()\n    473         try:\n--> 474             ioloop.IOLoop.instance().start()\n    475         except KeyboardInterrupt:\n    476             pass\n    477 \n    478 launch_new_instance = IPKernelApp.launch_instance\n\n...........................................................................\nD:\\Anaconda2\\lib\\site-packages\\zmq\\eventloop\\ioloop.py in start(self=<zmq.eventloop.ioloop.ZMQIOLoop object>)\n    157             PollIOLoop.configure(ZMQIOLoop)\n    158         return PollIOLoop.current(*args, **kwargs)\n    159     \n    160     def start(self):\n    161         try:\n--> 162             super(ZMQIOLoop, self).start()\n        self.start = <bound method ZMQIOLoop.start of <zmq.eventloop.ioloop.ZMQIOLoop object>>\n    163         except ZMQError as e:\n    164             if e.errno == ETERM:\n    165                 # quietly return on ETERM\n    166                 pass\n\n...........................................................................\nD:\\Anaconda2\\lib\\site-packages\\tornado\\ioloop.py in start(self=<zmq.eventloop.ioloop.ZMQIOLoop object>)\n    882                 self._events.update(event_pairs)\n    883                 while self._events:\n    884                     fd, events = self._events.popitem()\n    885                     try:\n    886                         fd_obj, handler_func = self._handlers[fd]\n--> 887                         handler_func(fd_obj, events)\n        handler_func = <function null_wrapper>\n        fd_obj = <zmq.sugar.socket.Socket object>\n        events = 1\n    888                     except (OSError, IOError) as e:\n    889                         if errno_from_exception(e) == errno.EPIPE:\n    890                             # Happens when the client closes the connection\n    891                             pass\n\n...........................................................................\nD:\\Anaconda2\\lib\\site-packages\\tornado\\stack_context.py in null_wrapper(*args=(<zmq.sugar.socket.Socket object>, 1), **kwargs={})\n    270         # Fast path when there are no active contexts.\n    271         def null_wrapper(*args, **kwargs):\n    272             try:\n    273                 current_state = _state.contexts\n    274                 _state.contexts = cap_contexts[0]\n--> 275                 return fn(*args, **kwargs)\n        args = (<zmq.sugar.socket.Socket object>, 1)\n        kwargs = {}\n    276             finally:\n    277                 _state.contexts = current_state\n    278         null_wrapper._wrapped = True\n    279         return null_wrapper\n\n...........................................................................\nD:\\Anaconda2\\lib\\site-packages\\zmq\\eventloop\\zmqstream.py in _handle_events(self=<zmq.eventloop.zmqstream.ZMQStream object>, fd=<zmq.sugar.socket.Socket object>, events=1)\n    435             # dispatch events:\n    436             if events & IOLoop.ERROR:\n    437                 gen_log.error(\"got POLLERR event on ZMQStream, which doesn't make sense\")\n    438                 return\n    439             if events & IOLoop.READ:\n--> 440                 self._handle_recv()\n        self._handle_recv = <bound method ZMQStream._handle_recv of <zmq.eventloop.zmqstream.ZMQStream object>>\n    441                 if not self.socket:\n    442                     return\n    443             if events & IOLoop.WRITE:\n    444                 self._handle_send()\n\n...........................................................................\nD:\\Anaconda2\\lib\\site-packages\\zmq\\eventloop\\zmqstream.py in _handle_recv(self=<zmq.eventloop.zmqstream.ZMQStream object>)\n    467                 gen_log.error(\"RECV Error: %s\"%zmq.strerror(e.errno))\n    468         else:\n    469             if self._recv_callback:\n    470                 callback = self._recv_callback\n    471                 # self._recv_callback = None\n--> 472                 self._run_callback(callback, msg)\n        self._run_callback = <bound method ZMQStream._run_callback of <zmq.eventloop.zmqstream.ZMQStream object>>\n        callback = <function null_wrapper>\n        msg = [<zmq.sugar.frame.Frame object>, <zmq.sugar.frame.Frame object>, <zmq.sugar.frame.Frame object>, <zmq.sugar.frame.Frame object>, <zmq.sugar.frame.Frame object>, <zmq.sugar.frame.Frame object>, <zmq.sugar.frame.Frame object>]\n    473                 \n    474         # self.update_state()\n    475         \n    476 \n\n...........................................................................\nD:\\Anaconda2\\lib\\site-packages\\zmq\\eventloop\\zmqstream.py in _run_callback(self=<zmq.eventloop.zmqstream.ZMQStream object>, callback=<function null_wrapper>, *args=([<zmq.sugar.frame.Frame object>, <zmq.sugar.frame.Frame object>, <zmq.sugar.frame.Frame object>, <zmq.sugar.frame.Frame object>, <zmq.sugar.frame.Frame object>, <zmq.sugar.frame.Frame object>, <zmq.sugar.frame.Frame object>],), **kwargs={})\n    409         close our socket.\"\"\"\n    410         try:\n    411             # Use a NullContext to ensure that all StackContexts are run\n    412             # inside our blanket exception handler rather than outside.\n    413             with stack_context.NullContext():\n--> 414                 callback(*args, **kwargs)\n        callback = <function null_wrapper>\n        args = ([<zmq.sugar.frame.Frame object>, <zmq.sugar.frame.Frame object>, <zmq.sugar.frame.Frame object>, <zmq.sugar.frame.Frame object>, <zmq.sugar.frame.Frame object>, <zmq.sugar.frame.Frame object>, <zmq.sugar.frame.Frame object>],)\n        kwargs = {}\n    415         except:\n    416             gen_log.error(\"Uncaught exception, closing connection.\",\n    417                           exc_info=True)\n    418             # Close the socket on an uncaught exception from a user callback\n\n...........................................................................\nD:\\Anaconda2\\lib\\site-packages\\tornado\\stack_context.py in null_wrapper(*args=([<zmq.sugar.frame.Frame object>, <zmq.sugar.frame.Frame object>, <zmq.sugar.frame.Frame object>, <zmq.sugar.frame.Frame object>, <zmq.sugar.frame.Frame object>, <zmq.sugar.frame.Frame object>, <zmq.sugar.frame.Frame object>],), **kwargs={})\n    270         # Fast path when there are no active contexts.\n    271         def null_wrapper(*args, **kwargs):\n    272             try:\n    273                 current_state = _state.contexts\n    274                 _state.contexts = cap_contexts[0]\n--> 275                 return fn(*args, **kwargs)\n        args = ([<zmq.sugar.frame.Frame object>, <zmq.sugar.frame.Frame object>, <zmq.sugar.frame.Frame object>, <zmq.sugar.frame.Frame object>, <zmq.sugar.frame.Frame object>, <zmq.sugar.frame.Frame object>, <zmq.sugar.frame.Frame object>],)\n        kwargs = {}\n    276             finally:\n    277                 _state.contexts = current_state\n    278         null_wrapper._wrapped = True\n    279         return null_wrapper\n\n...........................................................................\nD:\\Anaconda2\\lib\\site-packages\\ipykernel\\kernelbase.py in dispatcher(msg=[<zmq.sugar.frame.Frame object>, <zmq.sugar.frame.Frame object>, <zmq.sugar.frame.Frame object>, <zmq.sugar.frame.Frame object>, <zmq.sugar.frame.Frame object>, <zmq.sugar.frame.Frame object>, <zmq.sugar.frame.Frame object>])\n    271         if self.control_stream:\n    272             self.control_stream.on_recv(self.dispatch_control, copy=False)\n    273 \n    274         def make_dispatcher(stream):\n    275             def dispatcher(msg):\n--> 276                 return self.dispatch_shell(stream, msg)\n        msg = [<zmq.sugar.frame.Frame object>, <zmq.sugar.frame.Frame object>, <zmq.sugar.frame.Frame object>, <zmq.sugar.frame.Frame object>, <zmq.sugar.frame.Frame object>, <zmq.sugar.frame.Frame object>, <zmq.sugar.frame.Frame object>]\n    277             return dispatcher\n    278 \n    279         for s in self.shell_streams:\n    280             s.on_recv(make_dispatcher(s), copy=False)\n\n...........................................................................\nD:\\Anaconda2\\lib\\site-packages\\ipykernel\\kernelbase.py in dispatch_shell(self=<ipykernel.ipkernel.IPythonKernel object>, stream=<zmq.eventloop.zmqstream.ZMQStream object>, msg={'buffers': [], 'content': {u'allow_stdin': True, u'code': u'clf.fit(X_train, y_train)', u'silent': False, u'stop_on_error': True, u'store_history': True, u'user_expressions': {}}, 'header': {'date': '2017-03-27T10:29:07.853000', u'msg_id': u'9BCB8CE0D7B44EBB8287477D9761FC9B', u'msg_type': u'execute_request', u'session': u'529D5D218C1E4E328563685C83F5AD77', u'username': u'username', u'version': u'5.0'}, 'metadata': {}, 'msg_id': u'9BCB8CE0D7B44EBB8287477D9761FC9B', 'msg_type': u'execute_request', 'parent_header': {}})\n    223             self.log.error(\"UNKNOWN MESSAGE TYPE: %r\", msg_type)\n    224         else:\n    225             self.log.debug(\"%s: %s\", msg_type, msg)\n    226             self.pre_handler_hook()\n    227             try:\n--> 228                 handler(stream, idents, msg)\n        handler = <bound method IPythonKernel.execute_request of <ipykernel.ipkernel.IPythonKernel object>>\n        stream = <zmq.eventloop.zmqstream.ZMQStream object>\n        idents = ['529D5D218C1E4E328563685C83F5AD77']\n        msg = {'buffers': [], 'content': {u'allow_stdin': True, u'code': u'clf.fit(X_train, y_train)', u'silent': False, u'stop_on_error': True, u'store_history': True, u'user_expressions': {}}, 'header': {'date': '2017-03-27T10:29:07.853000', u'msg_id': u'9BCB8CE0D7B44EBB8287477D9761FC9B', u'msg_type': u'execute_request', u'session': u'529D5D218C1E4E328563685C83F5AD77', u'username': u'username', u'version': u'5.0'}, 'metadata': {}, 'msg_id': u'9BCB8CE0D7B44EBB8287477D9761FC9B', 'msg_type': u'execute_request', 'parent_header': {}}\n    229             except Exception:\n    230                 self.log.error(\"Exception in message handler:\", exc_info=True)\n    231             finally:\n    232                 self.post_handler_hook()\n\n...........................................................................\nD:\\Anaconda2\\lib\\site-packages\\ipykernel\\kernelbase.py in execute_request(self=<ipykernel.ipkernel.IPythonKernel object>, stream=<zmq.eventloop.zmqstream.ZMQStream object>, ident=['529D5D218C1E4E328563685C83F5AD77'], parent={'buffers': [], 'content': {u'allow_stdin': True, u'code': u'clf.fit(X_train, y_train)', u'silent': False, u'stop_on_error': True, u'store_history': True, u'user_expressions': {}}, 'header': {'date': '2017-03-27T10:29:07.853000', u'msg_id': u'9BCB8CE0D7B44EBB8287477D9761FC9B', u'msg_type': u'execute_request', u'session': u'529D5D218C1E4E328563685C83F5AD77', u'username': u'username', u'version': u'5.0'}, 'metadata': {}, 'msg_id': u'9BCB8CE0D7B44EBB8287477D9761FC9B', 'msg_type': u'execute_request', 'parent_header': {}})\n    385         if not silent:\n    386             self.execution_count += 1\n    387             self._publish_execute_input(code, parent, self.execution_count)\n    388 \n    389         reply_content = self.do_execute(code, silent, store_history,\n--> 390                                         user_expressions, allow_stdin)\n        user_expressions = {}\n        allow_stdin = True\n    391 \n    392         # Flush output before sending the reply.\n    393         sys.stdout.flush()\n    394         sys.stderr.flush()\n\n...........................................................................\nD:\\Anaconda2\\lib\\site-packages\\ipykernel\\ipkernel.py in do_execute(self=<ipykernel.ipkernel.IPythonKernel object>, code=u'clf.fit(X_train, y_train)', silent=False, store_history=True, user_expressions={}, allow_stdin=True)\n    191 \n    192         self._forward_input(allow_stdin)\n    193 \n    194         reply_content = {}\n    195         try:\n--> 196             res = shell.run_cell(code, store_history=store_history, silent=silent)\n        res = undefined\n        shell.run_cell = <bound method ZMQInteractiveShell.run_cell of <ipykernel.zmqshell.ZMQInteractiveShell object>>\n        code = u'clf.fit(X_train, y_train)'\n        store_history = True\n        silent = False\n    197         finally:\n    198             self._restore_input()\n    199 \n    200         if res.error_before_exec is not None:\n\n...........................................................................\nD:\\Anaconda2\\lib\\site-packages\\ipykernel\\zmqshell.py in run_cell(self=<ipykernel.zmqshell.ZMQInteractiveShell object>, *args=(u'clf.fit(X_train, y_train)',), **kwargs={'silent': False, 'store_history': True})\n    496             )\n    497         self.payload_manager.write_payload(payload)\n    498 \n    499     def run_cell(self, *args, **kwargs):\n    500         self._last_traceback = None\n--> 501         return super(ZMQInteractiveShell, self).run_cell(*args, **kwargs)\n        self.run_cell = <bound method ZMQInteractiveShell.run_cell of <ipykernel.zmqshell.ZMQInteractiveShell object>>\n        args = (u'clf.fit(X_train, y_train)',)\n        kwargs = {'silent': False, 'store_history': True}\n    502 \n    503     def _showtraceback(self, etype, evalue, stb):\n    504         # try to preserve ordering of tracebacks and print statements\n    505         sys.stdout.flush()\n\n...........................................................................\nD:\\Anaconda2\\lib\\site-packages\\IPython\\core\\interactiveshell.py in run_cell(self=<ipykernel.zmqshell.ZMQInteractiveShell object>, raw_cell=u'clf.fit(X_train, y_train)', store_history=True, silent=False, shell_futures=True)\n   2712                 self.displayhook.exec_result = result\n   2713 \n   2714                 # Execute the user code\n   2715                 interactivity = \"none\" if silent else self.ast_node_interactivity\n   2716                 has_raised = self.run_ast_nodes(code_ast.body, cell_name,\n-> 2717                    interactivity=interactivity, compiler=compiler, result=result)\n        interactivity = 'last_expr'\n        compiler = <IPython.core.compilerop.CachingCompiler instance>\n   2718                 \n   2719                 self.last_execution_succeeded = not has_raised\n   2720 \n   2721                 # Reset this so later displayed values do not modify the\n\n...........................................................................\nD:\\Anaconda2\\lib\\site-packages\\IPython\\core\\interactiveshell.py in run_ast_nodes(self=<ipykernel.zmqshell.ZMQInteractiveShell object>, nodelist=[<_ast.Expr object>], cell_name='<ipython-input-85-48a2aac41443>', interactivity='last', compiler=<IPython.core.compilerop.CachingCompiler instance>, result=<ExecutionResult object at 172bc6d8, execution_c..._before_exec=None error_in_exec=None result=None>)\n   2822                     return True\n   2823 \n   2824             for i, node in enumerate(to_run_interactive):\n   2825                 mod = ast.Interactive([node])\n   2826                 code = compiler(mod, cell_name, \"single\")\n-> 2827                 if self.run_code(code, result):\n        self.run_code = <bound method ZMQInteractiveShell.run_code of <ipykernel.zmqshell.ZMQInteractiveShell object>>\n        code = <code object <module> at 000000000B4D36B0, file \"<ipython-input-85-48a2aac41443>\", line 1>\n        result = <ExecutionResult object at 172bc6d8, execution_c..._before_exec=None error_in_exec=None result=None>\n   2828                     return True\n   2829 \n   2830             # Flush softspace\n   2831             if softspace(sys.stdout, 0):\n\n...........................................................................\nD:\\Anaconda2\\lib\\site-packages\\IPython\\core\\interactiveshell.py in run_code(self=<ipykernel.zmqshell.ZMQInteractiveShell object>, code_obj=<code object <module> at 000000000B4D36B0, file \"<ipython-input-85-48a2aac41443>\", line 1>, result=<ExecutionResult object at 172bc6d8, execution_c..._before_exec=None error_in_exec=None result=None>)\n   2876         outflag = 1  # happens in more places, so it's easier as default\n   2877         try:\n   2878             try:\n   2879                 self.hooks.pre_run_code_hook()\n   2880                 #rprint('Running code', repr(code_obj)) # dbg\n-> 2881                 exec(code_obj, self.user_global_ns, self.user_ns)\n        code_obj = <code object <module> at 000000000B4D36B0, file \"<ipython-input-85-48a2aac41443>\", line 1>\n        self.user_global_ns = {'In': ['', u'from __future__ import print_function\\nimport ...d\\nimport numpy as np\\nimport sklearn\\nimport os', u\"data_dir = 'E:\\\\\\\\dataset\\\\\\\\Competition_170323'\", u\"train_path = os.path.join(data_dir, 'train.csv')\\ntest_path = os.path.join(data_dir, 'test.csv')\", u'train_raw_data = pd.read_csv(train_path)\\ntest_raw_data = pd.read_csv(test_path)', u'train_raw_data.head()', u\"train_raw_data[train_raw_data['Feature_48'] == np.nan].size\", u\"train_raw_data[train_raw_data['Feature_48'] == np.nan]\", u\"train_raw_data[train_raw_data['Feature_48'] == np.NaN]\", u'train_raw_data.Feature_48.isnull()', u'train_raw_data.Feature_48.isnull().size', u'train_raw_data.size', u\"for col_name in train_raw_data.columns:\\n    i...a(train_raw_data[col_name].mean(), inplace=True)\", u\"for col_name in test_raw_data.columns:\\n    if...na(test_raw_data[col_name].mean(), inplace=True)\", u'train_X = train_raw_data.ix[:, :-1].values\\ntrain_y = train_raw_data.ix[:, -1].values', u'from sklearn import preprocessing', u\"get_ipython().magic(u'pinfo preprocessing.MinMaxScaler')\", u\"get_ipython().magic(u'pinfo np.bincount')\", u'np.bincount(train_y)', u'preprocessing.minmax_scale', ...], 'Out': {5:    Feature_1  Feature_2  Feature_3  Feature_4  F...              1       0  \n\n[5 rows x 111 columns], 6: 0, 7: Empty DataFrame\nColumns: [Feature_1, Feature_2, ...e_45_flag, ...]\nIndex: []\n\n[0 rows x 111 columns], 8: Empty DataFrame\nColumns: [Feature_1, Feature_2, ...e_45_flag, ...]\nIndex: []\n\n[0 rows x 111 columns], 9: 0          True\n1          True\n2         False\n...lse\n212036     True\nName: Feature_48, dtype: bool, 10: 212037, 11: 23536107, 18: array([106360, 105677], dtype=int64), 19: <function minmax_scale>, 30: RandomForestClassifier(bootstrap=True, class_wei...state=1,\n            verbose=1, warm_start=False), ...}, 'RandomForestClassifier': <class 'sklearn.ensemble.forest.RandomForestClassifier'>, 'X_test': array([[ 0.01332,  0.02318, ...,  1.     ,  1.  ...  [ 0.01296,  0.01239, ...,  0.     ,  1.     ]]), 'X_train': array([[ 0.01288,  0.01485, ...,  0.     ,  0.  ...  [ 0.01072,  0.01098, ...,  1.     ,  1.     ]]), '_': 0.74872692447571032, '_10': 212037, '_11': 23536107, '_18': array([106360, 105677], dtype=int64), '_19': <function minmax_scale>, ...}\n        self.user_ns = {'In': ['', u'from __future__ import print_function\\nimport ...d\\nimport numpy as np\\nimport sklearn\\nimport os', u\"data_dir = 'E:\\\\\\\\dataset\\\\\\\\Competition_170323'\", u\"train_path = os.path.join(data_dir, 'train.csv')\\ntest_path = os.path.join(data_dir, 'test.csv')\", u'train_raw_data = pd.read_csv(train_path)\\ntest_raw_data = pd.read_csv(test_path)', u'train_raw_data.head()', u\"train_raw_data[train_raw_data['Feature_48'] == np.nan].size\", u\"train_raw_data[train_raw_data['Feature_48'] == np.nan]\", u\"train_raw_data[train_raw_data['Feature_48'] == np.NaN]\", u'train_raw_data.Feature_48.isnull()', u'train_raw_data.Feature_48.isnull().size', u'train_raw_data.size', u\"for col_name in train_raw_data.columns:\\n    i...a(train_raw_data[col_name].mean(), inplace=True)\", u\"for col_name in test_raw_data.columns:\\n    if...na(test_raw_data[col_name].mean(), inplace=True)\", u'train_X = train_raw_data.ix[:, :-1].values\\ntrain_y = train_raw_data.ix[:, -1].values', u'from sklearn import preprocessing', u\"get_ipython().magic(u'pinfo preprocessing.MinMaxScaler')\", u\"get_ipython().magic(u'pinfo np.bincount')\", u'np.bincount(train_y)', u'preprocessing.minmax_scale', ...], 'Out': {5:    Feature_1  Feature_2  Feature_3  Feature_4  F...              1       0  \n\n[5 rows x 111 columns], 6: 0, 7: Empty DataFrame\nColumns: [Feature_1, Feature_2, ...e_45_flag, ...]\nIndex: []\n\n[0 rows x 111 columns], 8: Empty DataFrame\nColumns: [Feature_1, Feature_2, ...e_45_flag, ...]\nIndex: []\n\n[0 rows x 111 columns], 9: 0          True\n1          True\n2         False\n...lse\n212036     True\nName: Feature_48, dtype: bool, 10: 212037, 11: 23536107, 18: array([106360, 105677], dtype=int64), 19: <function minmax_scale>, 30: RandomForestClassifier(bootstrap=True, class_wei...state=1,\n            verbose=1, warm_start=False), ...}, 'RandomForestClassifier': <class 'sklearn.ensemble.forest.RandomForestClassifier'>, 'X_test': array([[ 0.01332,  0.02318, ...,  1.     ,  1.  ...  [ 0.01296,  0.01239, ...,  0.     ,  1.     ]]), 'X_train': array([[ 0.01288,  0.01485, ...,  0.     ,  0.  ...  [ 0.01072,  0.01098, ...,  1.     ,  1.     ]]), '_': 0.74872692447571032, '_10': 212037, '_11': 23536107, '_18': array([106360, 105677], dtype=int64), '_19': <function minmax_scale>, ...}\n   2882             finally:\n   2883                 # Reset our crash handler in place\n   2884                 sys.excepthook = old_excepthook\n   2885         except SystemExit as e:\n\n...........................................................................\nE:\\Github\\Alphabase.ai\\<ipython-input-85-48a2aac41443> in <module>()\n----> 1 \n      2 \n      3 \n      4 \n      5 \n      6 clf.fit(X_train, y_train)\n      7 \n      8 \n      9 \n     10 \n\n...........................................................................\nD:\\Anaconda2\\lib\\site-packages\\sklearn\\ensemble\\forest.py in fit(self=RandomForestClassifier(bootstrap=True, class_wei...state=1,\n            verbose=1, warm_start=False), X=array([[ 0.01288,  0.01485, ...,  0.     ,  0.  ....01098, ...,  1.     ,  1.     ]], dtype=float32), y=array([[ 0.],\n       [ 1.],\n       ..., \n       [ 1.],\n       [ 0.]]), sample_weight=None)\n    321             trees = Parallel(n_jobs=self.n_jobs, verbose=self.verbose,\n    322                              backend=\"threading\")(\n    323                 delayed(_parallel_build_trees)(\n    324                     t, self, X, y, sample_weight, i, len(trees),\n    325                     verbose=self.verbose, class_weight=self.class_weight)\n--> 326                 for i, t in enumerate(trees))\n        i = 199\n    327 \n    328             # Collect newly grown trees\n    329             self.estimators_.extend(trees)\n    330 \n\n...........................................................................\nD:\\Anaconda2\\lib\\site-packages\\sklearn\\externals\\joblib\\parallel.py in __call__(self=Parallel(n_jobs=-1), iterable=<generator object <genexpr>>)\n    763             if pre_dispatch == \"all\" or n_jobs == 1:\n    764                 # The iterable was consumed all at once by the above for loop.\n    765                 # No need to wait for async callbacks to trigger to\n    766                 # consumption.\n    767                 self._iterating = False\n--> 768             self.retrieve()\n        self.retrieve = <bound method Parallel.retrieve of Parallel(n_jobs=-1)>\n    769             # Make sure that we get a last message telling us we are done\n    770             elapsed_time = time.time() - self._start_time\n    771             self._print('Done %3i out of %3i | elapsed: %s finished',\n    772                         (len(self._output), len(self._output),\n\n---------------------------------------------------------------------------\nSub-process traceback:\n---------------------------------------------------------------------------\nMemoryError                                        Mon Mar 27 10:29:27 2017\nPID: 10640                           Python 2.7.12: D:\\Anaconda2\\python.exe\n...........................................................................\nD:\\Anaconda2\\lib\\site-packages\\sklearn\\externals\\joblib\\parallel.py in __call__(self=<sklearn.externals.joblib.parallel.BatchedCalls object>)\n    126     def __init__(self, iterator_slice):\n    127         self.items = list(iterator_slice)\n    128         self._size = len(self.items)\n    129 \n    130     def __call__(self):\n--> 131         return [func(*args, **kwargs) for func, args, kwargs in self.items]\n        func = <function _parallel_build_trees>\n        args = (DecisionTreeClassifier(class_weight=None, criter...=False, random_state=1291688077, splitter='best'), RandomForestClassifier(bootstrap=True, class_wei...state=1,\n            verbose=1, warm_start=False), array([[ 0.01288,  0.01485, ...,  0.     ,  0.  ....01098, ...,  1.     ,  1.     ]], dtype=float32), array([[ 0.],\n       [ 1.],\n       ..., \n       [ 1.],\n       [ 0.]]), None, 40, 200)\n        kwargs = {'class_weight': None, 'verbose': 1}\n        self.items = [(<function _parallel_build_trees>, (DecisionTreeClassifier(class_weight=None, criter...=False, random_state=1291688077, splitter='best'), RandomForestClassifier(bootstrap=True, class_wei...state=1,\n            verbose=1, warm_start=False), array([[ 0.01288,  0.01485, ...,  0.     ,  0.  ....01098, ...,  1.     ,  1.     ]], dtype=float32), array([[ 0.],\n       [ 1.],\n       ..., \n       [ 1.],\n       [ 0.]]), None, 40, 200), {'class_weight': None, 'verbose': 1})]\n    132 \n    133     def __len__(self):\n    134         return self._size\n    135 \n\n...........................................................................\nD:\\Anaconda2\\lib\\site-packages\\sklearn\\ensemble\\forest.py in _parallel_build_trees(tree=DecisionTreeClassifier(class_weight=None, criter...=False, random_state=1291688077, splitter='best'), forest=RandomForestClassifier(bootstrap=True, class_wei...state=1,\n            verbose=1, warm_start=False), X=array([[ 0.01288,  0.01485, ...,  0.     ,  0.  ....01098, ...,  1.     ,  1.     ]], dtype=float32), y=array([[ 0.],\n       [ 1.],\n       ..., \n       [ 1.],\n       [ 0.]]), sample_weight=None, tree_idx=40, n_trees=200, verbose=1, class_weight=None)\n    115                 warnings.simplefilter('ignore', DeprecationWarning)\n    116                 curr_sample_weight *= compute_sample_weight('auto', y, indices)\n    117         elif class_weight == 'balanced_subsample':\n    118             curr_sample_weight *= compute_sample_weight('balanced', y, indices)\n    119 \n--> 120         tree.fit(X, y, sample_weight=curr_sample_weight, check_input=False)\n        tree.fit = <bound method DecisionTreeClassifier.fit of Deci...False, random_state=1291688077, splitter='best')>\n        X = array([[ 0.01288,  0.01485, ...,  0.     ,  0.  ....01098, ...,  1.     ,  1.     ]], dtype=float32)\n        y = array([[ 0.],\n       [ 1.],\n       ..., \n       [ 1.],\n       [ 0.]])\n        sample_weight = None\n        curr_sample_weight = array([ 2.,  0., ...,  0.,  0.])\n    121     else:\n    122         tree.fit(X, y, sample_weight=sample_weight, check_input=False)\n    123 \n    124     return tree\n\n...........................................................................\nD:\\Anaconda2\\lib\\site-packages\\sklearn\\tree\\tree.py in fit(self=DecisionTreeClassifier(class_weight=None, criter...=False, random_state=1291688077, splitter='best'), X=array([[ 0.01288,  0.01485, ...,  0.     ,  0.  ....01098, ...,  1.     ,  1.     ]], dtype=float32), y=array([[ 0.],\n       [ 1.],\n       ..., \n       [ 1.],\n       [ 0.]]), sample_weight=array([ 2.,  0., ...,  0.,  0.]), check_input=False, X_idx_sorted=None)\n    734 \n    735         super(DecisionTreeClassifier, self).fit(\n    736             X, y,\n    737             sample_weight=sample_weight,\n    738             check_input=check_input,\n--> 739             X_idx_sorted=X_idx_sorted)\n        X_idx_sorted = None\n    740         return self\n    741 \n    742 \n    743     def predict_proba(self, X, check_input=True):\n\n...........................................................................\nD:\\Anaconda2\\lib\\site-packages\\sklearn\\tree\\tree.py in fit(self=DecisionTreeClassifier(class_weight=None, criter...=False, random_state=1291688077, splitter='best'), X=array([[ 0.01288,  0.01485, ...,  0.     ,  0.  ....01098, ...,  1.     ,  1.     ]], dtype=float32), y=array([[ 0.],\n       [ 1.],\n       ..., \n       [ 1.],\n       [ 0.]]), sample_weight=array([ 2.,  0., ...,  0.,  0.]), check_input=False, X_idx_sorted=None)\n    345                                            min_weight_leaf,\n    346                                            max_depth,\n    347                                            max_leaf_nodes,\n    348                                            self.min_impurity_split)\n    349 \n--> 350         builder.build(self.tree_, X, y, sample_weight, X_idx_sorted)\n        builder.build = <built-in method build of sklearn.tree._tree.DepthFirstTreeBuilder object>\n        self.tree_ = <sklearn.tree._tree.Tree object>\n        X = array([[ 0.01288,  0.01485, ...,  0.     ,  0.  ....01098, ...,  1.     ,  1.     ]], dtype=float32)\n        y = array([[ 0.],\n       [ 1.],\n       ..., \n       [ 1.],\n       [ 0.]])\n        sample_weight = array([ 2.,  0., ...,  0.,  0.])\n        X_idx_sorted = None\n    351 \n    352         if self.n_outputs_ == 1:\n    353             self.n_classes_ = self.n_classes_[0]\n    354             self.classes_ = self.classes_[0]\n\n...........................................................................\nD:\\Anaconda2\\lib\\site-packages\\sklearn\\tree\\_tree.pyd in sklearn.tree._tree.DepthFirstTreeBuilder.build (sklearn\\tree\\_tree.c:4999)()\n    137 \n    138 \n    139 \n    140 \n    141 \n--> 142 \n    143 \n    144 \n    145 \n    146 \n\n...........................................................................\nD:\\Anaconda2\\lib\\site-packages\\sklearn\\tree\\_tree.pyd in sklearn.tree._tree.DepthFirstTreeBuilder.build (sklearn\\tree\\_tree.c:4826)()\n    264 \n    265 \n    266 \n    267 \n    268 \n--> 269 \n    270 \n    271 \n    272 \n    273 \n\nMemoryError: \n___________________________________________________________________________",
     "output_type": "error",
     "traceback": [
      "\u001b[0;31m---------------------------------------------------------------------------\u001b[0m",
      "\u001b[0;31mJoblibMemoryError\u001b[0m                         Traceback (most recent call last)",
      "\u001b[0;32m<ipython-input-85-48a2aac41443>\u001b[0m in \u001b[0;36m<module>\u001b[0;34m()\u001b[0m\n\u001b[0;32m----> 1\u001b[0;31m \u001b[0mclf\u001b[0m\u001b[1;33m.\u001b[0m\u001b[0mfit\u001b[0m\u001b[1;33m(\u001b[0m\u001b[0mX_train\u001b[0m\u001b[1;33m,\u001b[0m \u001b[0my_train\u001b[0m\u001b[1;33m)\u001b[0m\u001b[1;33m\u001b[0m\u001b[0m\n\u001b[0m",
      "\u001b[0;32mD:\\Anaconda2\\lib\\site-packages\\sklearn\\ensemble\\forest.pyc\u001b[0m in \u001b[0;36mfit\u001b[0;34m(self, X, y, sample_weight)\u001b[0m\n\u001b[1;32m    324\u001b[0m                     \u001b[0mt\u001b[0m\u001b[1;33m,\u001b[0m \u001b[0mself\u001b[0m\u001b[1;33m,\u001b[0m \u001b[0mX\u001b[0m\u001b[1;33m,\u001b[0m \u001b[0my\u001b[0m\u001b[1;33m,\u001b[0m \u001b[0msample_weight\u001b[0m\u001b[1;33m,\u001b[0m \u001b[0mi\u001b[0m\u001b[1;33m,\u001b[0m \u001b[0mlen\u001b[0m\u001b[1;33m(\u001b[0m\u001b[0mtrees\u001b[0m\u001b[1;33m)\u001b[0m\u001b[1;33m,\u001b[0m\u001b[1;33m\u001b[0m\u001b[0m\n\u001b[1;32m    325\u001b[0m                     verbose=self.verbose, class_weight=self.class_weight)\n\u001b[0;32m--> 326\u001b[0;31m                 for i, t in enumerate(trees))\n\u001b[0m\u001b[1;32m    327\u001b[0m \u001b[1;33m\u001b[0m\u001b[0m\n\u001b[1;32m    328\u001b[0m             \u001b[1;31m# Collect newly grown trees\u001b[0m\u001b[1;33m\u001b[0m\u001b[1;33m\u001b[0m\u001b[0m\n",
      "\u001b[0;32mD:\\Anaconda2\\lib\\site-packages\\sklearn\\externals\\joblib\\parallel.pyc\u001b[0m in \u001b[0;36m__call__\u001b[0;34m(self, iterable)\u001b[0m\n\u001b[1;32m    766\u001b[0m                 \u001b[1;31m# consumption.\u001b[0m\u001b[1;33m\u001b[0m\u001b[1;33m\u001b[0m\u001b[0m\n\u001b[1;32m    767\u001b[0m                 \u001b[0mself\u001b[0m\u001b[1;33m.\u001b[0m\u001b[0m_iterating\u001b[0m \u001b[1;33m=\u001b[0m \u001b[0mFalse\u001b[0m\u001b[1;33m\u001b[0m\u001b[0m\n\u001b[0;32m--> 768\u001b[0;31m             \u001b[0mself\u001b[0m\u001b[1;33m.\u001b[0m\u001b[0mretrieve\u001b[0m\u001b[1;33m(\u001b[0m\u001b[1;33m)\u001b[0m\u001b[1;33m\u001b[0m\u001b[0m\n\u001b[0m\u001b[1;32m    769\u001b[0m             \u001b[1;31m# Make sure that we get a last message telling us we are done\u001b[0m\u001b[1;33m\u001b[0m\u001b[1;33m\u001b[0m\u001b[0m\n\u001b[1;32m    770\u001b[0m             \u001b[0melapsed_time\u001b[0m \u001b[1;33m=\u001b[0m \u001b[0mtime\u001b[0m\u001b[1;33m.\u001b[0m\u001b[0mtime\u001b[0m\u001b[1;33m(\u001b[0m\u001b[1;33m)\u001b[0m \u001b[1;33m-\u001b[0m \u001b[0mself\u001b[0m\u001b[1;33m.\u001b[0m\u001b[0m_start_time\u001b[0m\u001b[1;33m\u001b[0m\u001b[0m\n",
      "\u001b[0;32mD:\\Anaconda2\\lib\\site-packages\\sklearn\\externals\\joblib\\parallel.pyc\u001b[0m in \u001b[0;36mretrieve\u001b[0;34m(self)\u001b[0m\n\u001b[1;32m    717\u001b[0m                     \u001b[0mensure_ready\u001b[0m \u001b[1;33m=\u001b[0m \u001b[0mself\u001b[0m\u001b[1;33m.\u001b[0m\u001b[0m_managed_backend\u001b[0m\u001b[1;33m\u001b[0m\u001b[0m\n\u001b[1;32m    718\u001b[0m                     \u001b[0mbackend\u001b[0m\u001b[1;33m.\u001b[0m\u001b[0mabort_everything\u001b[0m\u001b[1;33m(\u001b[0m\u001b[0mensure_ready\u001b[0m\u001b[1;33m=\u001b[0m\u001b[0mensure_ready\u001b[0m\u001b[1;33m)\u001b[0m\u001b[1;33m\u001b[0m\u001b[0m\n\u001b[0;32m--> 719\u001b[0;31m                 \u001b[1;32mraise\u001b[0m \u001b[0mexception\u001b[0m\u001b[1;33m\u001b[0m\u001b[0m\n\u001b[0m\u001b[1;32m    720\u001b[0m \u001b[1;33m\u001b[0m\u001b[0m\n\u001b[1;32m    721\u001b[0m     \u001b[1;32mdef\u001b[0m \u001b[0m__call__\u001b[0m\u001b[1;33m(\u001b[0m\u001b[0mself\u001b[0m\u001b[1;33m,\u001b[0m \u001b[0miterable\u001b[0m\u001b[1;33m)\u001b[0m\u001b[1;33m:\u001b[0m\u001b[1;33m\u001b[0m\u001b[0m\n",
      "\u001b[0;31mJoblibMemoryError\u001b[0m: JoblibMemoryError\n___________________________________________________________________________\nMultiprocessing exception:\n...........................................................................\nD:\\Anaconda2\\lib\\runpy.py in _run_module_as_main(mod_name='ipykernel.__main__', alter_argv=1)\n    169     pkg_name = mod_name.rpartition('.')[0]\n    170     main_globals = sys.modules[\"__main__\"].__dict__\n    171     if alter_argv:\n    172         sys.argv[0] = fname\n    173     return _run_code(code, main_globals, None,\n--> 174                      \"__main__\", fname, loader, pkg_name)\n        fname = r'D:\\Anaconda2\\lib\\site-packages\\ipykernel\\__main__.py'\n        loader = <pkgutil.ImpLoader instance>\n        pkg_name = 'ipykernel'\n    175 \n    176 def run_module(mod_name, init_globals=None,\n    177                run_name=None, alter_sys=False):\n    178     \"\"\"Execute a module's code without importing it\n\n...........................................................................\nD:\\Anaconda2\\lib\\runpy.py in _run_code(code=<code object <module> at 0000000002D1BD30, file ...lib\\site-packages\\ipykernel\\__main__.py\", line 1>, run_globals={'__builtins__': <module '__builtin__' (built-in)>, '__doc__': None, '__file__': r'D:\\Anaconda2\\lib\\site-packages\\ipykernel\\__main__.py', '__loader__': <pkgutil.ImpLoader instance>, '__name__': '__main__', '__package__': 'ipykernel', 'app': <module 'ipykernel.kernelapp' from 'D:\\Anaconda2\\lib\\site-packages\\ipykernel\\kernelapp.pyc'>}, init_globals=None, mod_name='__main__', mod_fname=r'D:\\Anaconda2\\lib\\site-packages\\ipykernel\\__main__.py', mod_loader=<pkgutil.ImpLoader instance>, pkg_name='ipykernel')\n     67         run_globals.update(init_globals)\n     68     run_globals.update(__name__ = mod_name,\n     69                        __file__ = mod_fname,\n     70                        __loader__ = mod_loader,\n     71                        __package__ = pkg_name)\n---> 72     exec code in run_globals\n        code = <code object <module> at 0000000002D1BD30, file ...lib\\site-packages\\ipykernel\\__main__.py\", line 1>\n        run_globals = {'__builtins__': <module '__builtin__' (built-in)>, '__doc__': None, '__file__': r'D:\\Anaconda2\\lib\\site-packages\\ipykernel\\__main__.py', '__loader__': <pkgutil.ImpLoader instance>, '__name__': '__main__', '__package__': 'ipykernel', 'app': <module 'ipykernel.kernelapp' from 'D:\\Anaconda2\\lib\\site-packages\\ipykernel\\kernelapp.pyc'>}\n     73     return run_globals\n     74 \n     75 def _run_module_code(code, init_globals=None,\n     76                     mod_name=None, mod_fname=None,\n\n...........................................................................\nD:\\Anaconda2\\lib\\site-packages\\ipykernel\\__main__.py in <module>()\n      1 \n      2 \n----> 3 \n      4 if __name__ == '__main__':\n      5     from ipykernel import kernelapp as app\n      6     app.launch_new_instance()\n      7 \n      8 \n      9 \n     10 \n\n...........................................................................\nD:\\Anaconda2\\lib\\site-packages\\traitlets\\config\\application.py in launch_instance(cls=<class 'ipykernel.kernelapp.IPKernelApp'>, argv=None, **kwargs={})\n    648 \n    649         If a global instance already exists, this reinitializes and starts it\n    650         \"\"\"\n    651         app = cls.instance(**kwargs)\n    652         app.initialize(argv)\n--> 653         app.start()\n        app.start = <bound method IPKernelApp.start of <ipykernel.kernelapp.IPKernelApp object>>\n    654 \n    655 #-----------------------------------------------------------------------------\n    656 # utility functions, for convenience\n    657 #-----------------------------------------------------------------------------\n\n...........................................................................\nD:\\Anaconda2\\lib\\site-packages\\ipykernel\\kernelapp.py in start(self=<ipykernel.kernelapp.IPKernelApp object>)\n    469             return self.subapp.start()\n    470         if self.poller is not None:\n    471             self.poller.start()\n    472         self.kernel.start()\n    473         try:\n--> 474             ioloop.IOLoop.instance().start()\n    475         except KeyboardInterrupt:\n    476             pass\n    477 \n    478 launch_new_instance = IPKernelApp.launch_instance\n\n...........................................................................\nD:\\Anaconda2\\lib\\site-packages\\zmq\\eventloop\\ioloop.py in start(self=<zmq.eventloop.ioloop.ZMQIOLoop object>)\n    157             PollIOLoop.configure(ZMQIOLoop)\n    158         return PollIOLoop.current(*args, **kwargs)\n    159     \n    160     def start(self):\n    161         try:\n--> 162             super(ZMQIOLoop, self).start()\n        self.start = <bound method ZMQIOLoop.start of <zmq.eventloop.ioloop.ZMQIOLoop object>>\n    163         except ZMQError as e:\n    164             if e.errno == ETERM:\n    165                 # quietly return on ETERM\n    166                 pass\n\n...........................................................................\nD:\\Anaconda2\\lib\\site-packages\\tornado\\ioloop.py in start(self=<zmq.eventloop.ioloop.ZMQIOLoop object>)\n    882                 self._events.update(event_pairs)\n    883                 while self._events:\n    884                     fd, events = self._events.popitem()\n    885                     try:\n    886                         fd_obj, handler_func = self._handlers[fd]\n--> 887                         handler_func(fd_obj, events)\n        handler_func = <function null_wrapper>\n        fd_obj = <zmq.sugar.socket.Socket object>\n        events = 1\n    888                     except (OSError, IOError) as e:\n    889                         if errno_from_exception(e) == errno.EPIPE:\n    890                             # Happens when the client closes the connection\n    891                             pass\n\n...........................................................................\nD:\\Anaconda2\\lib\\site-packages\\tornado\\stack_context.py in null_wrapper(*args=(<zmq.sugar.socket.Socket object>, 1), **kwargs={})\n    270         # Fast path when there are no active contexts.\n    271         def null_wrapper(*args, **kwargs):\n    272             try:\n    273                 current_state = _state.contexts\n    274                 _state.contexts = cap_contexts[0]\n--> 275                 return fn(*args, **kwargs)\n        args = (<zmq.sugar.socket.Socket object>, 1)\n        kwargs = {}\n    276             finally:\n    277                 _state.contexts = current_state\n    278         null_wrapper._wrapped = True\n    279         return null_wrapper\n\n...........................................................................\nD:\\Anaconda2\\lib\\site-packages\\zmq\\eventloop\\zmqstream.py in _handle_events(self=<zmq.eventloop.zmqstream.ZMQStream object>, fd=<zmq.sugar.socket.Socket object>, events=1)\n    435             # dispatch events:\n    436             if events & IOLoop.ERROR:\n    437                 gen_log.error(\"got POLLERR event on ZMQStream, which doesn't make sense\")\n    438                 return\n    439             if events & IOLoop.READ:\n--> 440                 self._handle_recv()\n        self._handle_recv = <bound method ZMQStream._handle_recv of <zmq.eventloop.zmqstream.ZMQStream object>>\n    441                 if not self.socket:\n    442                     return\n    443             if events & IOLoop.WRITE:\n    444                 self._handle_send()\n\n...........................................................................\nD:\\Anaconda2\\lib\\site-packages\\zmq\\eventloop\\zmqstream.py in _handle_recv(self=<zmq.eventloop.zmqstream.ZMQStream object>)\n    467                 gen_log.error(\"RECV Error: %s\"%zmq.strerror(e.errno))\n    468         else:\n    469             if self._recv_callback:\n    470                 callback = self._recv_callback\n    471                 # self._recv_callback = None\n--> 472                 self._run_callback(callback, msg)\n        self._run_callback = <bound method ZMQStream._run_callback of <zmq.eventloop.zmqstream.ZMQStream object>>\n        callback = <function null_wrapper>\n        msg = [<zmq.sugar.frame.Frame object>, <zmq.sugar.frame.Frame object>, <zmq.sugar.frame.Frame object>, <zmq.sugar.frame.Frame object>, <zmq.sugar.frame.Frame object>, <zmq.sugar.frame.Frame object>, <zmq.sugar.frame.Frame object>]\n    473                 \n    474         # self.update_state()\n    475         \n    476 \n\n...........................................................................\nD:\\Anaconda2\\lib\\site-packages\\zmq\\eventloop\\zmqstream.py in _run_callback(self=<zmq.eventloop.zmqstream.ZMQStream object>, callback=<function null_wrapper>, *args=([<zmq.sugar.frame.Frame object>, <zmq.sugar.frame.Frame object>, <zmq.sugar.frame.Frame object>, <zmq.sugar.frame.Frame object>, <zmq.sugar.frame.Frame object>, <zmq.sugar.frame.Frame object>, <zmq.sugar.frame.Frame object>],), **kwargs={})\n    409         close our socket.\"\"\"\n    410         try:\n    411             # Use a NullContext to ensure that all StackContexts are run\n    412             # inside our blanket exception handler rather than outside.\n    413             with stack_context.NullContext():\n--> 414                 callback(*args, **kwargs)\n        callback = <function null_wrapper>\n        args = ([<zmq.sugar.frame.Frame object>, <zmq.sugar.frame.Frame object>, <zmq.sugar.frame.Frame object>, <zmq.sugar.frame.Frame object>, <zmq.sugar.frame.Frame object>, <zmq.sugar.frame.Frame object>, <zmq.sugar.frame.Frame object>],)\n        kwargs = {}\n    415         except:\n    416             gen_log.error(\"Uncaught exception, closing connection.\",\n    417                           exc_info=True)\n    418             # Close the socket on an uncaught exception from a user callback\n\n...........................................................................\nD:\\Anaconda2\\lib\\site-packages\\tornado\\stack_context.py in null_wrapper(*args=([<zmq.sugar.frame.Frame object>, <zmq.sugar.frame.Frame object>, <zmq.sugar.frame.Frame object>, <zmq.sugar.frame.Frame object>, <zmq.sugar.frame.Frame object>, <zmq.sugar.frame.Frame object>, <zmq.sugar.frame.Frame object>],), **kwargs={})\n    270         # Fast path when there are no active contexts.\n    271         def null_wrapper(*args, **kwargs):\n    272             try:\n    273                 current_state = _state.contexts\n    274                 _state.contexts = cap_contexts[0]\n--> 275                 return fn(*args, **kwargs)\n        args = ([<zmq.sugar.frame.Frame object>, <zmq.sugar.frame.Frame object>, <zmq.sugar.frame.Frame object>, <zmq.sugar.frame.Frame object>, <zmq.sugar.frame.Frame object>, <zmq.sugar.frame.Frame object>, <zmq.sugar.frame.Frame object>],)\n        kwargs = {}\n    276             finally:\n    277                 _state.contexts = current_state\n    278         null_wrapper._wrapped = True\n    279         return null_wrapper\n\n...........................................................................\nD:\\Anaconda2\\lib\\site-packages\\ipykernel\\kernelbase.py in dispatcher(msg=[<zmq.sugar.frame.Frame object>, <zmq.sugar.frame.Frame object>, <zmq.sugar.frame.Frame object>, <zmq.sugar.frame.Frame object>, <zmq.sugar.frame.Frame object>, <zmq.sugar.frame.Frame object>, <zmq.sugar.frame.Frame object>])\n    271         if self.control_stream:\n    272             self.control_stream.on_recv(self.dispatch_control, copy=False)\n    273 \n    274         def make_dispatcher(stream):\n    275             def dispatcher(msg):\n--> 276                 return self.dispatch_shell(stream, msg)\n        msg = [<zmq.sugar.frame.Frame object>, <zmq.sugar.frame.Frame object>, <zmq.sugar.frame.Frame object>, <zmq.sugar.frame.Frame object>, <zmq.sugar.frame.Frame object>, <zmq.sugar.frame.Frame object>, <zmq.sugar.frame.Frame object>]\n    277             return dispatcher\n    278 \n    279         for s in self.shell_streams:\n    280             s.on_recv(make_dispatcher(s), copy=False)\n\n...........................................................................\nD:\\Anaconda2\\lib\\site-packages\\ipykernel\\kernelbase.py in dispatch_shell(self=<ipykernel.ipkernel.IPythonKernel object>, stream=<zmq.eventloop.zmqstream.ZMQStream object>, msg={'buffers': [], 'content': {u'allow_stdin': True, u'code': u'clf.fit(X_train, y_train)', u'silent': False, u'stop_on_error': True, u'store_history': True, u'user_expressions': {}}, 'header': {'date': '2017-03-27T10:29:07.853000', u'msg_id': u'9BCB8CE0D7B44EBB8287477D9761FC9B', u'msg_type': u'execute_request', u'session': u'529D5D218C1E4E328563685C83F5AD77', u'username': u'username', u'version': u'5.0'}, 'metadata': {}, 'msg_id': u'9BCB8CE0D7B44EBB8287477D9761FC9B', 'msg_type': u'execute_request', 'parent_header': {}})\n    223             self.log.error(\"UNKNOWN MESSAGE TYPE: %r\", msg_type)\n    224         else:\n    225             self.log.debug(\"%s: %s\", msg_type, msg)\n    226             self.pre_handler_hook()\n    227             try:\n--> 228                 handler(stream, idents, msg)\n        handler = <bound method IPythonKernel.execute_request of <ipykernel.ipkernel.IPythonKernel object>>\n        stream = <zmq.eventloop.zmqstream.ZMQStream object>\n        idents = ['529D5D218C1E4E328563685C83F5AD77']\n        msg = {'buffers': [], 'content': {u'allow_stdin': True, u'code': u'clf.fit(X_train, y_train)', u'silent': False, u'stop_on_error': True, u'store_history': True, u'user_expressions': {}}, 'header': {'date': '2017-03-27T10:29:07.853000', u'msg_id': u'9BCB8CE0D7B44EBB8287477D9761FC9B', u'msg_type': u'execute_request', u'session': u'529D5D218C1E4E328563685C83F5AD77', u'username': u'username', u'version': u'5.0'}, 'metadata': {}, 'msg_id': u'9BCB8CE0D7B44EBB8287477D9761FC9B', 'msg_type': u'execute_request', 'parent_header': {}}\n    229             except Exception:\n    230                 self.log.error(\"Exception in message handler:\", exc_info=True)\n    231             finally:\n    232                 self.post_handler_hook()\n\n...........................................................................\nD:\\Anaconda2\\lib\\site-packages\\ipykernel\\kernelbase.py in execute_request(self=<ipykernel.ipkernel.IPythonKernel object>, stream=<zmq.eventloop.zmqstream.ZMQStream object>, ident=['529D5D218C1E4E328563685C83F5AD77'], parent={'buffers': [], 'content': {u'allow_stdin': True, u'code': u'clf.fit(X_train, y_train)', u'silent': False, u'stop_on_error': True, u'store_history': True, u'user_expressions': {}}, 'header': {'date': '2017-03-27T10:29:07.853000', u'msg_id': u'9BCB8CE0D7B44EBB8287477D9761FC9B', u'msg_type': u'execute_request', u'session': u'529D5D218C1E4E328563685C83F5AD77', u'username': u'username', u'version': u'5.0'}, 'metadata': {}, 'msg_id': u'9BCB8CE0D7B44EBB8287477D9761FC9B', 'msg_type': u'execute_request', 'parent_header': {}})\n    385         if not silent:\n    386             self.execution_count += 1\n    387             self._publish_execute_input(code, parent, self.execution_count)\n    388 \n    389         reply_content = self.do_execute(code, silent, store_history,\n--> 390                                         user_expressions, allow_stdin)\n        user_expressions = {}\n        allow_stdin = True\n    391 \n    392         # Flush output before sending the reply.\n    393         sys.stdout.flush()\n    394         sys.stderr.flush()\n\n...........................................................................\nD:\\Anaconda2\\lib\\site-packages\\ipykernel\\ipkernel.py in do_execute(self=<ipykernel.ipkernel.IPythonKernel object>, code=u'clf.fit(X_train, y_train)', silent=False, store_history=True, user_expressions={}, allow_stdin=True)\n    191 \n    192         self._forward_input(allow_stdin)\n    193 \n    194         reply_content = {}\n    195         try:\n--> 196             res = shell.run_cell(code, store_history=store_history, silent=silent)\n        res = undefined\n        shell.run_cell = <bound method ZMQInteractiveShell.run_cell of <ipykernel.zmqshell.ZMQInteractiveShell object>>\n        code = u'clf.fit(X_train, y_train)'\n        store_history = True\n        silent = False\n    197         finally:\n    198             self._restore_input()\n    199 \n    200         if res.error_before_exec is not None:\n\n...........................................................................\nD:\\Anaconda2\\lib\\site-packages\\ipykernel\\zmqshell.py in run_cell(self=<ipykernel.zmqshell.ZMQInteractiveShell object>, *args=(u'clf.fit(X_train, y_train)',), **kwargs={'silent': False, 'store_history': True})\n    496             )\n    497         self.payload_manager.write_payload(payload)\n    498 \n    499     def run_cell(self, *args, **kwargs):\n    500         self._last_traceback = None\n--> 501         return super(ZMQInteractiveShell, self).run_cell(*args, **kwargs)\n        self.run_cell = <bound method ZMQInteractiveShell.run_cell of <ipykernel.zmqshell.ZMQInteractiveShell object>>\n        args = (u'clf.fit(X_train, y_train)',)\n        kwargs = {'silent': False, 'store_history': True}\n    502 \n    503     def _showtraceback(self, etype, evalue, stb):\n    504         # try to preserve ordering of tracebacks and print statements\n    505         sys.stdout.flush()\n\n...........................................................................\nD:\\Anaconda2\\lib\\site-packages\\IPython\\core\\interactiveshell.py in run_cell(self=<ipykernel.zmqshell.ZMQInteractiveShell object>, raw_cell=u'clf.fit(X_train, y_train)', store_history=True, silent=False, shell_futures=True)\n   2712                 self.displayhook.exec_result = result\n   2713 \n   2714                 # Execute the user code\n   2715                 interactivity = \"none\" if silent else self.ast_node_interactivity\n   2716                 has_raised = self.run_ast_nodes(code_ast.body, cell_name,\n-> 2717                    interactivity=interactivity, compiler=compiler, result=result)\n        interactivity = 'last_expr'\n        compiler = <IPython.core.compilerop.CachingCompiler instance>\n   2718                 \n   2719                 self.last_execution_succeeded = not has_raised\n   2720 \n   2721                 # Reset this so later displayed values do not modify the\n\n...........................................................................\nD:\\Anaconda2\\lib\\site-packages\\IPython\\core\\interactiveshell.py in run_ast_nodes(self=<ipykernel.zmqshell.ZMQInteractiveShell object>, nodelist=[<_ast.Expr object>], cell_name='<ipython-input-85-48a2aac41443>', interactivity='last', compiler=<IPython.core.compilerop.CachingCompiler instance>, result=<ExecutionResult object at 172bc6d8, execution_c..._before_exec=None error_in_exec=None result=None>)\n   2822                     return True\n   2823 \n   2824             for i, node in enumerate(to_run_interactive):\n   2825                 mod = ast.Interactive([node])\n   2826                 code = compiler(mod, cell_name, \"single\")\n-> 2827                 if self.run_code(code, result):\n        self.run_code = <bound method ZMQInteractiveShell.run_code of <ipykernel.zmqshell.ZMQInteractiveShell object>>\n        code = <code object <module> at 000000000B4D36B0, file \"<ipython-input-85-48a2aac41443>\", line 1>\n        result = <ExecutionResult object at 172bc6d8, execution_c..._before_exec=None error_in_exec=None result=None>\n   2828                     return True\n   2829 \n   2830             # Flush softspace\n   2831             if softspace(sys.stdout, 0):\n\n...........................................................................\nD:\\Anaconda2\\lib\\site-packages\\IPython\\core\\interactiveshell.py in run_code(self=<ipykernel.zmqshell.ZMQInteractiveShell object>, code_obj=<code object <module> at 000000000B4D36B0, file \"<ipython-input-85-48a2aac41443>\", line 1>, result=<ExecutionResult object at 172bc6d8, execution_c..._before_exec=None error_in_exec=None result=None>)\n   2876         outflag = 1  # happens in more places, so it's easier as default\n   2877         try:\n   2878             try:\n   2879                 self.hooks.pre_run_code_hook()\n   2880                 #rprint('Running code', repr(code_obj)) # dbg\n-> 2881                 exec(code_obj, self.user_global_ns, self.user_ns)\n        code_obj = <code object <module> at 000000000B4D36B0, file \"<ipython-input-85-48a2aac41443>\", line 1>\n        self.user_global_ns = {'In': ['', u'from __future__ import print_function\\nimport ...d\\nimport numpy as np\\nimport sklearn\\nimport os', u\"data_dir = 'E:\\\\\\\\dataset\\\\\\\\Competition_170323'\", u\"train_path = os.path.join(data_dir, 'train.csv')\\ntest_path = os.path.join(data_dir, 'test.csv')\", u'train_raw_data = pd.read_csv(train_path)\\ntest_raw_data = pd.read_csv(test_path)', u'train_raw_data.head()', u\"train_raw_data[train_raw_data['Feature_48'] == np.nan].size\", u\"train_raw_data[train_raw_data['Feature_48'] == np.nan]\", u\"train_raw_data[train_raw_data['Feature_48'] == np.NaN]\", u'train_raw_data.Feature_48.isnull()', u'train_raw_data.Feature_48.isnull().size', u'train_raw_data.size', u\"for col_name in train_raw_data.columns:\\n    i...a(train_raw_data[col_name].mean(), inplace=True)\", u\"for col_name in test_raw_data.columns:\\n    if...na(test_raw_data[col_name].mean(), inplace=True)\", u'train_X = train_raw_data.ix[:, :-1].values\\ntrain_y = train_raw_data.ix[:, -1].values', u'from sklearn import preprocessing', u\"get_ipython().magic(u'pinfo preprocessing.MinMaxScaler')\", u\"get_ipython().magic(u'pinfo np.bincount')\", u'np.bincount(train_y)', u'preprocessing.minmax_scale', ...], 'Out': {5:    Feature_1  Feature_2  Feature_3  Feature_4  F...              1       0  \n\n[5 rows x 111 columns], 6: 0, 7: Empty DataFrame\nColumns: [Feature_1, Feature_2, ...e_45_flag, ...]\nIndex: []\n\n[0 rows x 111 columns], 8: Empty DataFrame\nColumns: [Feature_1, Feature_2, ...e_45_flag, ...]\nIndex: []\n\n[0 rows x 111 columns], 9: 0          True\n1          True\n2         False\n...lse\n212036     True\nName: Feature_48, dtype: bool, 10: 212037, 11: 23536107, 18: array([106360, 105677], dtype=int64), 19: <function minmax_scale>, 30: RandomForestClassifier(bootstrap=True, class_wei...state=1,\n            verbose=1, warm_start=False), ...}, 'RandomForestClassifier': <class 'sklearn.ensemble.forest.RandomForestClassifier'>, 'X_test': array([[ 0.01332,  0.02318, ...,  1.     ,  1.  ...  [ 0.01296,  0.01239, ...,  0.     ,  1.     ]]), 'X_train': array([[ 0.01288,  0.01485, ...,  0.     ,  0.  ...  [ 0.01072,  0.01098, ...,  1.     ,  1.     ]]), '_': 0.74872692447571032, '_10': 212037, '_11': 23536107, '_18': array([106360, 105677], dtype=int64), '_19': <function minmax_scale>, ...}\n        self.user_ns = {'In': ['', u'from __future__ import print_function\\nimport ...d\\nimport numpy as np\\nimport sklearn\\nimport os', u\"data_dir = 'E:\\\\\\\\dataset\\\\\\\\Competition_170323'\", u\"train_path = os.path.join(data_dir, 'train.csv')\\ntest_path = os.path.join(data_dir, 'test.csv')\", u'train_raw_data = pd.read_csv(train_path)\\ntest_raw_data = pd.read_csv(test_path)', u'train_raw_data.head()', u\"train_raw_data[train_raw_data['Feature_48'] == np.nan].size\", u\"train_raw_data[train_raw_data['Feature_48'] == np.nan]\", u\"train_raw_data[train_raw_data['Feature_48'] == np.NaN]\", u'train_raw_data.Feature_48.isnull()', u'train_raw_data.Feature_48.isnull().size', u'train_raw_data.size', u\"for col_name in train_raw_data.columns:\\n    i...a(train_raw_data[col_name].mean(), inplace=True)\", u\"for col_name in test_raw_data.columns:\\n    if...na(test_raw_data[col_name].mean(), inplace=True)\", u'train_X = train_raw_data.ix[:, :-1].values\\ntrain_y = train_raw_data.ix[:, -1].values', u'from sklearn import preprocessing', u\"get_ipython().magic(u'pinfo preprocessing.MinMaxScaler')\", u\"get_ipython().magic(u'pinfo np.bincount')\", u'np.bincount(train_y)', u'preprocessing.minmax_scale', ...], 'Out': {5:    Feature_1  Feature_2  Feature_3  Feature_4  F...              1       0  \n\n[5 rows x 111 columns], 6: 0, 7: Empty DataFrame\nColumns: [Feature_1, Feature_2, ...e_45_flag, ...]\nIndex: []\n\n[0 rows x 111 columns], 8: Empty DataFrame\nColumns: [Feature_1, Feature_2, ...e_45_flag, ...]\nIndex: []\n\n[0 rows x 111 columns], 9: 0          True\n1          True\n2         False\n...lse\n212036     True\nName: Feature_48, dtype: bool, 10: 212037, 11: 23536107, 18: array([106360, 105677], dtype=int64), 19: <function minmax_scale>, 30: RandomForestClassifier(bootstrap=True, class_wei...state=1,\n            verbose=1, warm_start=False), ...}, 'RandomForestClassifier': <class 'sklearn.ensemble.forest.RandomForestClassifier'>, 'X_test': array([[ 0.01332,  0.02318, ...,  1.     ,  1.  ...  [ 0.01296,  0.01239, ...,  0.     ,  1.     ]]), 'X_train': array([[ 0.01288,  0.01485, ...,  0.     ,  0.  ...  [ 0.01072,  0.01098, ...,  1.     ,  1.     ]]), '_': 0.74872692447571032, '_10': 212037, '_11': 23536107, '_18': array([106360, 105677], dtype=int64), '_19': <function minmax_scale>, ...}\n   2882             finally:\n   2883                 # Reset our crash handler in place\n   2884                 sys.excepthook = old_excepthook\n   2885         except SystemExit as e:\n\n...........................................................................\nE:\\Github\\Alphabase.ai\\<ipython-input-85-48a2aac41443> in <module>()\n----> 1 \n      2 \n      3 \n      4 \n      5 \n      6 clf.fit(X_train, y_train)\n      7 \n      8 \n      9 \n     10 \n\n...........................................................................\nD:\\Anaconda2\\lib\\site-packages\\sklearn\\ensemble\\forest.py in fit(self=RandomForestClassifier(bootstrap=True, class_wei...state=1,\n            verbose=1, warm_start=False), X=array([[ 0.01288,  0.01485, ...,  0.     ,  0.  ....01098, ...,  1.     ,  1.     ]], dtype=float32), y=array([[ 0.],\n       [ 1.],\n       ..., \n       [ 1.],\n       [ 0.]]), sample_weight=None)\n    321             trees = Parallel(n_jobs=self.n_jobs, verbose=self.verbose,\n    322                              backend=\"threading\")(\n    323                 delayed(_parallel_build_trees)(\n    324                     t, self, X, y, sample_weight, i, len(trees),\n    325                     verbose=self.verbose, class_weight=self.class_weight)\n--> 326                 for i, t in enumerate(trees))\n        i = 199\n    327 \n    328             # Collect newly grown trees\n    329             self.estimators_.extend(trees)\n    330 \n\n...........................................................................\nD:\\Anaconda2\\lib\\site-packages\\sklearn\\externals\\joblib\\parallel.py in __call__(self=Parallel(n_jobs=-1), iterable=<generator object <genexpr>>)\n    763             if pre_dispatch == \"all\" or n_jobs == 1:\n    764                 # The iterable was consumed all at once by the above for loop.\n    765                 # No need to wait for async callbacks to trigger to\n    766                 # consumption.\n    767                 self._iterating = False\n--> 768             self.retrieve()\n        self.retrieve = <bound method Parallel.retrieve of Parallel(n_jobs=-1)>\n    769             # Make sure that we get a last message telling us we are done\n    770             elapsed_time = time.time() - self._start_time\n    771             self._print('Done %3i out of %3i | elapsed: %s finished',\n    772                         (len(self._output), len(self._output),\n\n---------------------------------------------------------------------------\nSub-process traceback:\n---------------------------------------------------------------------------\nMemoryError                                        Mon Mar 27 10:29:27 2017\nPID: 10640                           Python 2.7.12: D:\\Anaconda2\\python.exe\n...........................................................................\nD:\\Anaconda2\\lib\\site-packages\\sklearn\\externals\\joblib\\parallel.py in __call__(self=<sklearn.externals.joblib.parallel.BatchedCalls object>)\n    126     def __init__(self, iterator_slice):\n    127         self.items = list(iterator_slice)\n    128         self._size = len(self.items)\n    129 \n    130     def __call__(self):\n--> 131         return [func(*args, **kwargs) for func, args, kwargs in self.items]\n        func = <function _parallel_build_trees>\n        args = (DecisionTreeClassifier(class_weight=None, criter...=False, random_state=1291688077, splitter='best'), RandomForestClassifier(bootstrap=True, class_wei...state=1,\n            verbose=1, warm_start=False), array([[ 0.01288,  0.01485, ...,  0.     ,  0.  ....01098, ...,  1.     ,  1.     ]], dtype=float32), array([[ 0.],\n       [ 1.],\n       ..., \n       [ 1.],\n       [ 0.]]), None, 40, 200)\n        kwargs = {'class_weight': None, 'verbose': 1}\n        self.items = [(<function _parallel_build_trees>, (DecisionTreeClassifier(class_weight=None, criter...=False, random_state=1291688077, splitter='best'), RandomForestClassifier(bootstrap=True, class_wei...state=1,\n            verbose=1, warm_start=False), array([[ 0.01288,  0.01485, ...,  0.     ,  0.  ....01098, ...,  1.     ,  1.     ]], dtype=float32), array([[ 0.],\n       [ 1.],\n       ..., \n       [ 1.],\n       [ 0.]]), None, 40, 200), {'class_weight': None, 'verbose': 1})]\n    132 \n    133     def __len__(self):\n    134         return self._size\n    135 \n\n...........................................................................\nD:\\Anaconda2\\lib\\site-packages\\sklearn\\ensemble\\forest.py in _parallel_build_trees(tree=DecisionTreeClassifier(class_weight=None, criter...=False, random_state=1291688077, splitter='best'), forest=RandomForestClassifier(bootstrap=True, class_wei...state=1,\n            verbose=1, warm_start=False), X=array([[ 0.01288,  0.01485, ...,  0.     ,  0.  ....01098, ...,  1.     ,  1.     ]], dtype=float32), y=array([[ 0.],\n       [ 1.],\n       ..., \n       [ 1.],\n       [ 0.]]), sample_weight=None, tree_idx=40, n_trees=200, verbose=1, class_weight=None)\n    115                 warnings.simplefilter('ignore', DeprecationWarning)\n    116                 curr_sample_weight *= compute_sample_weight('auto', y, indices)\n    117         elif class_weight == 'balanced_subsample':\n    118             curr_sample_weight *= compute_sample_weight('balanced', y, indices)\n    119 \n--> 120         tree.fit(X, y, sample_weight=curr_sample_weight, check_input=False)\n        tree.fit = <bound method DecisionTreeClassifier.fit of Deci...False, random_state=1291688077, splitter='best')>\n        X = array([[ 0.01288,  0.01485, ...,  0.     ,  0.  ....01098, ...,  1.     ,  1.     ]], dtype=float32)\n        y = array([[ 0.],\n       [ 1.],\n       ..., \n       [ 1.],\n       [ 0.]])\n        sample_weight = None\n        curr_sample_weight = array([ 2.,  0., ...,  0.,  0.])\n    121     else:\n    122         tree.fit(X, y, sample_weight=sample_weight, check_input=False)\n    123 \n    124     return tree\n\n...........................................................................\nD:\\Anaconda2\\lib\\site-packages\\sklearn\\tree\\tree.py in fit(self=DecisionTreeClassifier(class_weight=None, criter...=False, random_state=1291688077, splitter='best'), X=array([[ 0.01288,  0.01485, ...,  0.     ,  0.  ....01098, ...,  1.     ,  1.     ]], dtype=float32), y=array([[ 0.],\n       [ 1.],\n       ..., \n       [ 1.],\n       [ 0.]]), sample_weight=array([ 2.,  0., ...,  0.,  0.]), check_input=False, X_idx_sorted=None)\n    734 \n    735         super(DecisionTreeClassifier, self).fit(\n    736             X, y,\n    737             sample_weight=sample_weight,\n    738             check_input=check_input,\n--> 739             X_idx_sorted=X_idx_sorted)\n        X_idx_sorted = None\n    740         return self\n    741 \n    742 \n    743     def predict_proba(self, X, check_input=True):\n\n...........................................................................\nD:\\Anaconda2\\lib\\site-packages\\sklearn\\tree\\tree.py in fit(self=DecisionTreeClassifier(class_weight=None, criter...=False, random_state=1291688077, splitter='best'), X=array([[ 0.01288,  0.01485, ...,  0.     ,  0.  ....01098, ...,  1.     ,  1.     ]], dtype=float32), y=array([[ 0.],\n       [ 1.],\n       ..., \n       [ 1.],\n       [ 0.]]), sample_weight=array([ 2.,  0., ...,  0.,  0.]), check_input=False, X_idx_sorted=None)\n    345                                            min_weight_leaf,\n    346                                            max_depth,\n    347                                            max_leaf_nodes,\n    348                                            self.min_impurity_split)\n    349 \n--> 350         builder.build(self.tree_, X, y, sample_weight, X_idx_sorted)\n        builder.build = <built-in method build of sklearn.tree._tree.DepthFirstTreeBuilder object>\n        self.tree_ = <sklearn.tree._tree.Tree object>\n        X = array([[ 0.01288,  0.01485, ...,  0.     ,  0.  ....01098, ...,  1.     ,  1.     ]], dtype=float32)\n        y = array([[ 0.],\n       [ 1.],\n       ..., \n       [ 1.],\n       [ 0.]])\n        sample_weight = array([ 2.,  0., ...,  0.,  0.])\n        X_idx_sorted = None\n    351 \n    352         if self.n_outputs_ == 1:\n    353             self.n_classes_ = self.n_classes_[0]\n    354             self.classes_ = self.classes_[0]\n\n...........................................................................\nD:\\Anaconda2\\lib\\site-packages\\sklearn\\tree\\_tree.pyd in sklearn.tree._tree.DepthFirstTreeBuilder.build (sklearn\\tree\\_tree.c:4999)()\n    137 \n    138 \n    139 \n    140 \n    141 \n--> 142 \n    143 \n    144 \n    145 \n    146 \n\n...........................................................................\nD:\\Anaconda2\\lib\\site-packages\\sklearn\\tree\\_tree.pyd in sklearn.tree._tree.DepthFirstTreeBuilder.build (sklearn\\tree\\_tree.c:4826)()\n    264 \n    265 \n    266 \n    267 \n    268 \n--> 269 \n    270 \n    271 \n    272 \n    273 \n\nMemoryError: \n___________________________________________________________________________"
     ]
    }
   ],
   "source": [
    "clf.fit(X_train, y_train)"
   ]
  },
  {
   "cell_type": "code",
   "execution_count": 68,
   "metadata": {
    "collapsed": false
   },
   "outputs": [
    {
     "data": {
      "text/plain": [
       "0.50271180731008924"
      ]
     },
     "execution_count": 68,
     "metadata": {},
     "output_type": "execute_result"
    }
   ],
   "source": [
    "clf.oob_score_"
   ]
  },
  {
   "cell_type": "code",
   "execution_count": 69,
   "metadata": {
    "collapsed": false
   },
   "outputs": [
    {
     "name": "stderr",
     "output_type": "stream",
     "text": [
      "[Parallel(n_jobs=4)]: Done  42 tasks      | elapsed:    0.3s\n",
      "[Parallel(n_jobs=4)]: Done 192 tasks      | elapsed:    1.7s\n",
      "[Parallel(n_jobs=4)]: Done 200 out of 200 | elapsed:    1.7s finished\n"
     ]
    }
   ],
   "source": [
    "pred_y = clf.predict_proba(X_test)[:, 1]"
   ]
  },
  {
   "cell_type": "code",
   "execution_count": 70,
   "metadata": {
    "collapsed": false
   },
   "outputs": [
    {
     "data": {
      "text/plain": [
       "array([0, 1], dtype=int64)"
      ]
     },
     "execution_count": 70,
     "metadata": {},
     "output_type": "execute_result"
    }
   ],
   "source": [
    "clf.classes_"
   ]
  },
  {
   "cell_type": "code",
   "execution_count": 71,
   "metadata": {
    "collapsed": true,
    "deletable": true,
    "editable": true
   },
   "outputs": [],
   "source": [
    "from sklearn.metrics import log_loss"
   ]
  },
  {
   "cell_type": "code",
   "execution_count": 72,
   "metadata": {
    "collapsed": false,
    "deletable": true,
    "editable": true
   },
   "outputs": [
    {
     "data": {
      "text/plain": [
       "0.74872692447571032"
      ]
     },
     "execution_count": 72,
     "metadata": {},
     "output_type": "execute_result"
    }
   ],
   "source": [
    "log_loss(y_test, pred_y)"
   ]
  },
  {
   "cell_type": "code",
   "execution_count": 51,
   "metadata": {
    "collapsed": false,
    "deletable": true,
    "editable": true
   },
   "outputs": [
    {
     "data": {
      "text/plain": [
       "(63545, 2)"
      ]
     },
     "execution_count": 51,
     "metadata": {},
     "output_type": "execute_result"
    }
   ],
   "source": [
    "pred_y.shape"
   ]
  },
  {
   "cell_type": "code",
   "execution_count": 55,
   "metadata": {
    "collapsed": false,
    "deletable": true,
    "editable": true
   },
   "outputs": [],
   "source": [
    "pred_y = pred_y[:, 1]"
   ]
  },
  {
   "cell_type": "code",
   "execution_count": 56,
   "metadata": {
    "collapsed": false,
    "deletable": true,
    "editable": true
   },
   "outputs": [
    {
     "data": {
      "text/plain": [
       "(63545L,)"
      ]
     },
     "execution_count": 56,
     "metadata": {},
     "output_type": "execute_result"
    }
   ],
   "source": [
    "pred_y.shape"
   ]
  },
  {
   "cell_type": "code",
   "execution_count": 57,
   "metadata": {
    "collapsed": false,
    "deletable": true,
    "editable": true
   },
   "outputs": [
    {
     "data": {
      "text/plain": [
       "(63545,)"
      ]
     },
     "execution_count": 57,
     "metadata": {},
     "output_type": "execute_result"
    }
   ],
   "source": [
    "test_id.shape"
   ]
  },
  {
   "cell_type": "code",
   "execution_count": 57,
   "metadata": {
    "collapsed": true,
    "deletable": true,
    "editable": true
   },
   "outputs": [],
   "source": [
    "result_path = os.path.join(data_dir, 'prediction.csv')"
   ]
  },
  {
   "cell_type": "code",
   "execution_count": 58,
   "metadata": {
    "collapsed": true,
    "deletable": true,
    "editable": true
   },
   "outputs": [],
   "source": [
    "result_file = open(result_path, 'w')"
   ]
  },
  {
   "cell_type": "code",
   "execution_count": 59,
   "metadata": {
    "collapsed": false,
    "deletable": true,
    "editable": true
   },
   "outputs": [],
   "source": [
    "head = '\"ID\",\"Target\"\\n'\n",
    "result_file.write(head)"
   ]
  },
  {
   "cell_type": "code",
   "execution_count": 60,
   "metadata": {
    "collapsed": true,
    "deletable": true,
    "editable": true
   },
   "outputs": [],
   "source": [
    "for s_id, s_pro in zip(test_ids, pred_y_1):\n",
    "    line = str(s_id) + ',' + str(s_pro) + '\\n'\n",
    "    result_file.write(line)"
   ]
  },
  {
   "cell_type": "code",
   "execution_count": 61,
   "metadata": {
    "collapsed": true,
    "deletable": true,
    "editable": true
   },
   "outputs": [],
   "source": [
    "result_file.close()"
   ]
  },
  {
   "cell_type": "code",
   "execution_count": null,
   "metadata": {
    "collapsed": true,
    "deletable": true,
    "editable": true
   },
   "outputs": [],
   "source": []
  }
 ],
 "metadata": {
  "anaconda-cloud": {},
  "kernelspec": {
   "display_name": "Python [default]",
   "language": "python",
   "name": "python2"
  },
  "language_info": {
   "codemirror_mode": {
    "name": "ipython",
    "version": 2
   },
   "file_extension": ".py",
   "mimetype": "text/x-python",
   "name": "python",
   "nbconvert_exporter": "python",
   "pygments_lexer": "ipython2",
   "version": "2.7.12"
  }
 },
 "nbformat": 4,
 "nbformat_minor": 1
}
