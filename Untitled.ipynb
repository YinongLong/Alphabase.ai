{
 "cells": [
  {
   "cell_type": "code",
   "execution_count": 1,
   "metadata": {
    "collapsed": true
   },
   "outputs": [],
   "source": [
    "from __future__ import print_function\n",
    "import pandas as pd\n",
    "import numpy as np\n",
    "import os"
   ]
  },
  {
   "cell_type": "code",
   "execution_count": 2,
   "metadata": {
    "collapsed": true
   },
   "outputs": [],
   "source": [
    "data_dir = '../Competition_170323/'"
   ]
  },
  {
   "cell_type": "code",
   "execution_count": 13,
   "metadata": {
    "collapsed": true
   },
   "outputs": [],
   "source": [
    "train_path = os.path.join(data_dir, 'train.csv')\n",
    "test_path = os.path.join(data_dir, 'test.csv')"
   ]
  },
  {
   "cell_type": "code",
   "execution_count": 14,
   "metadata": {
    "collapsed": false
   },
   "outputs": [],
   "source": [
    "train_raw_data = pd.read_csv(train_path)\n",
    "test_raw_data = pd.read_csv(test_path)"
   ]
  },
  {
   "cell_type": "code",
   "execution_count": 15,
   "metadata": {
    "collapsed": false
   },
   "outputs": [
    {
     "data": {
      "text/html": [
       "<div>\n",
       "<table border=\"1\" class=\"dataframe\">\n",
       "  <thead>\n",
       "    <tr style=\"text-align: right;\">\n",
       "      <th></th>\n",
       "      <th>Feature_1</th>\n",
       "      <th>Feature_2</th>\n",
       "      <th>Feature_3</th>\n",
       "      <th>Feature_4</th>\n",
       "      <th>Feature_5</th>\n",
       "      <th>Feature_6</th>\n",
       "      <th>Feature_7</th>\n",
       "      <th>Feature_8</th>\n",
       "      <th>Feature_9</th>\n",
       "      <th>Feature_10</th>\n",
       "      <th>...</th>\n",
       "      <th>Feature_47_flag</th>\n",
       "      <th>Feature_48_flag</th>\n",
       "      <th>Feature_49_flag</th>\n",
       "      <th>Feature_50_flag</th>\n",
       "      <th>Feature_51_flag</th>\n",
       "      <th>Feature_52_flag</th>\n",
       "      <th>Feature_53_flag</th>\n",
       "      <th>Feature_54_flag</th>\n",
       "      <th>Feature_55_flag</th>\n",
       "      <th>Target</th>\n",
       "    </tr>\n",
       "  </thead>\n",
       "  <tbody>\n",
       "    <tr>\n",
       "      <th>0</th>\n",
       "      <td>-0.082425</td>\n",
       "      <td>0.127111</td>\n",
       "      <td>0.332527</td>\n",
       "      <td>0.123086</td>\n",
       "      <td>-0.300770</td>\n",
       "      <td>-0.002215</td>\n",
       "      <td>-0.118903</td>\n",
       "      <td>-1.325995</td>\n",
       "      <td>NaN</td>\n",
       "      <td>-0.010424</td>\n",
       "      <td>...</td>\n",
       "      <td>0</td>\n",
       "      <td>1</td>\n",
       "      <td>0</td>\n",
       "      <td>0</td>\n",
       "      <td>1</td>\n",
       "      <td>0</td>\n",
       "      <td>1</td>\n",
       "      <td>0</td>\n",
       "      <td>0</td>\n",
       "      <td>1</td>\n",
       "    </tr>\n",
       "    <tr>\n",
       "      <th>1</th>\n",
       "      <td>-0.516935</td>\n",
       "      <td>-0.657969</td>\n",
       "      <td>-0.423185</td>\n",
       "      <td>-0.112894</td>\n",
       "      <td>0.273241</td>\n",
       "      <td>-0.002067</td>\n",
       "      <td>-0.118903</td>\n",
       "      <td>0.775258</td>\n",
       "      <td>NaN</td>\n",
       "      <td>-0.004583</td>\n",
       "      <td>...</td>\n",
       "      <td>0</td>\n",
       "      <td>1</td>\n",
       "      <td>0</td>\n",
       "      <td>0</td>\n",
       "      <td>1</td>\n",
       "      <td>0</td>\n",
       "      <td>0</td>\n",
       "      <td>0</td>\n",
       "      <td>1</td>\n",
       "      <td>0</td>\n",
       "    </tr>\n",
       "    <tr>\n",
       "      <th>2</th>\n",
       "      <td>0.149320</td>\n",
       "      <td>-0.278374</td>\n",
       "      <td>-0.553370</td>\n",
       "      <td>-0.204604</td>\n",
       "      <td>0.589307</td>\n",
       "      <td>-0.002351</td>\n",
       "      <td>-0.118903</td>\n",
       "      <td>1.695687</td>\n",
       "      <td>1.583616</td>\n",
       "      <td>-0.010407</td>\n",
       "      <td>...</td>\n",
       "      <td>0</td>\n",
       "      <td>0</td>\n",
       "      <td>0</td>\n",
       "      <td>0</td>\n",
       "      <td>0</td>\n",
       "      <td>0</td>\n",
       "      <td>0</td>\n",
       "      <td>1</td>\n",
       "      <td>1</td>\n",
       "      <td>0</td>\n",
       "    </tr>\n",
       "    <tr>\n",
       "      <th>3</th>\n",
       "      <td>-1.761833</td>\n",
       "      <td>-1.008883</td>\n",
       "      <td>-1.545531</td>\n",
       "      <td>-0.795354</td>\n",
       "      <td>-1.685710</td>\n",
       "      <td>-0.002424</td>\n",
       "      <td>-0.118903</td>\n",
       "      <td>0.108760</td>\n",
       "      <td>-0.209150</td>\n",
       "      <td>-0.010520</td>\n",
       "      <td>...</td>\n",
       "      <td>0</td>\n",
       "      <td>1</td>\n",
       "      <td>0</td>\n",
       "      <td>0</td>\n",
       "      <td>0</td>\n",
       "      <td>0</td>\n",
       "      <td>0</td>\n",
       "      <td>0</td>\n",
       "      <td>1</td>\n",
       "      <td>0</td>\n",
       "    </tr>\n",
       "    <tr>\n",
       "      <th>4</th>\n",
       "      <td>-0.163537</td>\n",
       "      <td>-0.343035</td>\n",
       "      <td>-0.080191</td>\n",
       "      <td>-0.023187</td>\n",
       "      <td>0.379131</td>\n",
       "      <td>-0.002313</td>\n",
       "      <td>-0.118903</td>\n",
       "      <td>-0.417900</td>\n",
       "      <td>-1.461623</td>\n",
       "      <td>-0.008521</td>\n",
       "      <td>...</td>\n",
       "      <td>0</td>\n",
       "      <td>1</td>\n",
       "      <td>0</td>\n",
       "      <td>1</td>\n",
       "      <td>0</td>\n",
       "      <td>0</td>\n",
       "      <td>0</td>\n",
       "      <td>1</td>\n",
       "      <td>1</td>\n",
       "      <td>0</td>\n",
       "    </tr>\n",
       "  </tbody>\n",
       "</table>\n",
       "<p>5 rows × 111 columns</p>\n",
       "</div>"
      ],
      "text/plain": [
       "   Feature_1  Feature_2  Feature_3  Feature_4  Feature_5  Feature_6  \\\n",
       "0  -0.082425   0.127111   0.332527   0.123086  -0.300770  -0.002215   \n",
       "1  -0.516935  -0.657969  -0.423185  -0.112894   0.273241  -0.002067   \n",
       "2   0.149320  -0.278374  -0.553370  -0.204604   0.589307  -0.002351   \n",
       "3  -1.761833  -1.008883  -1.545531  -0.795354  -1.685710  -0.002424   \n",
       "4  -0.163537  -0.343035  -0.080191  -0.023187   0.379131  -0.002313   \n",
       "\n",
       "   Feature_7  Feature_8  Feature_9  Feature_10   ...    Feature_47_flag  \\\n",
       "0  -0.118903  -1.325995        NaN   -0.010424   ...                  0   \n",
       "1  -0.118903   0.775258        NaN   -0.004583   ...                  0   \n",
       "2  -0.118903   1.695687   1.583616   -0.010407   ...                  0   \n",
       "3  -0.118903   0.108760  -0.209150   -0.010520   ...                  0   \n",
       "4  -0.118903  -0.417900  -1.461623   -0.008521   ...                  0   \n",
       "\n",
       "   Feature_48_flag  Feature_49_flag  Feature_50_flag  Feature_51_flag  \\\n",
       "0                1                0                0                1   \n",
       "1                1                0                0                1   \n",
       "2                0                0                0                0   \n",
       "3                1                0                0                0   \n",
       "4                1                0                1                0   \n",
       "\n",
       "   Feature_52_flag  Feature_53_flag  Feature_54_flag  Feature_55_flag  Target  \n",
       "0                0                1                0                0       1  \n",
       "1                0                0                0                1       0  \n",
       "2                0                0                1                1       0  \n",
       "3                0                0                0                1       0  \n",
       "4                0                0                1                1       0  \n",
       "\n",
       "[5 rows x 111 columns]"
      ]
     },
     "execution_count": 15,
     "metadata": {},
     "output_type": "execute_result"
    }
   ],
   "source": [
    "train_raw_data.head()"
   ]
  },
  {
   "cell_type": "code",
   "execution_count": 16,
   "metadata": {
    "collapsed": false
   },
   "outputs": [
    {
     "data": {
      "text/html": [
       "<div>\n",
       "<table border=\"1\" class=\"dataframe\">\n",
       "  <thead>\n",
       "    <tr style=\"text-align: right;\">\n",
       "      <th></th>\n",
       "      <th>ID</th>\n",
       "      <th>Feature_1</th>\n",
       "      <th>Feature_2</th>\n",
       "      <th>Feature_3</th>\n",
       "      <th>Feature_4</th>\n",
       "      <th>Feature_5</th>\n",
       "      <th>Feature_6</th>\n",
       "      <th>Feature_7</th>\n",
       "      <th>Feature_8</th>\n",
       "      <th>Feature_9</th>\n",
       "      <th>...</th>\n",
       "      <th>Feature_46_flag</th>\n",
       "      <th>Feature_47_flag</th>\n",
       "      <th>Feature_48_flag</th>\n",
       "      <th>Feature_49_flag</th>\n",
       "      <th>Feature_50_flag</th>\n",
       "      <th>Feature_51_flag</th>\n",
       "      <th>Feature_52_flag</th>\n",
       "      <th>Feature_53_flag</th>\n",
       "      <th>Feature_54_flag</th>\n",
       "      <th>Feature_55_flag</th>\n",
       "    </tr>\n",
       "  </thead>\n",
       "  <tbody>\n",
       "    <tr>\n",
       "      <th>0</th>\n",
       "      <td>22824</td>\n",
       "      <td>-0.290187</td>\n",
       "      <td>0.488677</td>\n",
       "      <td>0.154181</td>\n",
       "      <td>0.245028</td>\n",
       "      <td>-0.325906</td>\n",
       "      <td>-0.001945</td>\n",
       "      <td>-0.118903</td>\n",
       "      <td>0.379649</td>\n",
       "      <td>NaN</td>\n",
       "      <td>...</td>\n",
       "      <td>0</td>\n",
       "      <td>0</td>\n",
       "      <td>0</td>\n",
       "      <td>0</td>\n",
       "      <td>0</td>\n",
       "      <td>0</td>\n",
       "      <td>0</td>\n",
       "      <td>0</td>\n",
       "      <td>1</td>\n",
       "      <td>1</td>\n",
       "    </tr>\n",
       "    <tr>\n",
       "      <th>1</th>\n",
       "      <td>17383</td>\n",
       "      <td>0.207090</td>\n",
       "      <td>0.052973</td>\n",
       "      <td>-0.040674</td>\n",
       "      <td>-0.035330</td>\n",
       "      <td>0.022315</td>\n",
       "      <td>-0.002347</td>\n",
       "      <td>-0.118903</td>\n",
       "      <td>0.109704</td>\n",
       "      <td>-0.049374</td>\n",
       "      <td>...</td>\n",
       "      <td>0</td>\n",
       "      <td>0</td>\n",
       "      <td>1</td>\n",
       "      <td>0</td>\n",
       "      <td>0</td>\n",
       "      <td>0</td>\n",
       "      <td>0</td>\n",
       "      <td>0</td>\n",
       "      <td>0</td>\n",
       "      <td>1</td>\n",
       "    </tr>\n",
       "    <tr>\n",
       "      <th>2</th>\n",
       "      <td>8743</td>\n",
       "      <td>0.631392</td>\n",
       "      <td>-0.109401</td>\n",
       "      <td>0.026074</td>\n",
       "      <td>-0.206174</td>\n",
       "      <td>0.096120</td>\n",
       "      <td>-0.002191</td>\n",
       "      <td>-0.118903</td>\n",
       "      <td>1.388045</td>\n",
       "      <td>1.245544</td>\n",
       "      <td>...</td>\n",
       "      <td>0</td>\n",
       "      <td>0</td>\n",
       "      <td>0</td>\n",
       "      <td>0</td>\n",
       "      <td>0</td>\n",
       "      <td>0</td>\n",
       "      <td>0</td>\n",
       "      <td>0</td>\n",
       "      <td>0</td>\n",
       "      <td>1</td>\n",
       "    </tr>\n",
       "    <tr>\n",
       "      <th>3</th>\n",
       "      <td>45258</td>\n",
       "      <td>0.000538</td>\n",
       "      <td>0.147305</td>\n",
       "      <td>0.004411</td>\n",
       "      <td>-0.035312</td>\n",
       "      <td>-0.267377</td>\n",
       "      <td>-0.002084</td>\n",
       "      <td>-0.118903</td>\n",
       "      <td>-1.401608</td>\n",
       "      <td>NaN</td>\n",
       "      <td>...</td>\n",
       "      <td>1</td>\n",
       "      <td>0</td>\n",
       "      <td>0</td>\n",
       "      <td>0</td>\n",
       "      <td>1</td>\n",
       "      <td>0</td>\n",
       "      <td>0</td>\n",
       "      <td>1</td>\n",
       "      <td>0</td>\n",
       "      <td>1</td>\n",
       "    </tr>\n",
       "    <tr>\n",
       "      <th>4</th>\n",
       "      <td>60474</td>\n",
       "      <td>-1.220941</td>\n",
       "      <td>-0.808174</td>\n",
       "      <td>-0.747683</td>\n",
       "      <td>-0.264087</td>\n",
       "      <td>NaN</td>\n",
       "      <td>-0.002446</td>\n",
       "      <td>-0.118903</td>\n",
       "      <td>-1.719372</td>\n",
       "      <td>NaN</td>\n",
       "      <td>...</td>\n",
       "      <td>0</td>\n",
       "      <td>1</td>\n",
       "      <td>1</td>\n",
       "      <td>0</td>\n",
       "      <td>0</td>\n",
       "      <td>1</td>\n",
       "      <td>1</td>\n",
       "      <td>0</td>\n",
       "      <td>1</td>\n",
       "      <td>0</td>\n",
       "    </tr>\n",
       "  </tbody>\n",
       "</table>\n",
       "<p>5 rows × 111 columns</p>\n",
       "</div>"
      ],
      "text/plain": [
       "      ID  Feature_1  Feature_2  Feature_3  Feature_4  Feature_5  Feature_6  \\\n",
       "0  22824  -0.290187   0.488677   0.154181   0.245028  -0.325906  -0.001945   \n",
       "1  17383   0.207090   0.052973  -0.040674  -0.035330   0.022315  -0.002347   \n",
       "2   8743   0.631392  -0.109401   0.026074  -0.206174   0.096120  -0.002191   \n",
       "3  45258   0.000538   0.147305   0.004411  -0.035312  -0.267377  -0.002084   \n",
       "4  60474  -1.220941  -0.808174  -0.747683  -0.264087        NaN  -0.002446   \n",
       "\n",
       "   Feature_7  Feature_8  Feature_9       ...         Feature_46_flag  \\\n",
       "0  -0.118903   0.379649        NaN       ...                       0   \n",
       "1  -0.118903   0.109704  -0.049374       ...                       0   \n",
       "2  -0.118903   1.388045   1.245544       ...                       0   \n",
       "3  -0.118903  -1.401608        NaN       ...                       1   \n",
       "4  -0.118903  -1.719372        NaN       ...                       0   \n",
       "\n",
       "   Feature_47_flag  Feature_48_flag  Feature_49_flag  Feature_50_flag  \\\n",
       "0                0                0                0                0   \n",
       "1                0                1                0                0   \n",
       "2                0                0                0                0   \n",
       "3                0                0                0                1   \n",
       "4                1                1                0                0   \n",
       "\n",
       "   Feature_51_flag  Feature_52_flag  Feature_53_flag  Feature_54_flag  \\\n",
       "0                0                0                0                1   \n",
       "1                0                0                0                0   \n",
       "2                0                0                0                0   \n",
       "3                0                0                1                0   \n",
       "4                1                1                0                1   \n",
       "\n",
       "   Feature_55_flag  \n",
       "0                1  \n",
       "1                1  \n",
       "2                1  \n",
       "3                1  \n",
       "4                0  \n",
       "\n",
       "[5 rows x 111 columns]"
      ]
     },
     "execution_count": 16,
     "metadata": {},
     "output_type": "execute_result"
    }
   ],
   "source": [
    "test_raw_data.head()"
   ]
  },
  {
   "cell_type": "markdown",
   "metadata": {},
   "source": [
    "# 尝试使用每一个属性的均值来填充缺失值"
   ]
  },
  {
   "cell_type": "code",
   "execution_count": 23,
   "metadata": {
    "collapsed": false
   },
   "outputs": [],
   "source": [
    "for col_name in train_raw_data.columns:\n",
    "    if not col_name.endswith('flag'):\n",
    "        train_raw_data[col_name].fillna(train_raw_data[col_name].mean(), inplace=True)"
   ]
  },
  {
   "cell_type": "code",
   "execution_count": 24,
   "metadata": {
    "collapsed": true
   },
   "outputs": [],
   "source": [
    "for col_name in test_raw_data.columns:\n",
    "    if (col_name != 'ID') and (not col_name.endswith('flag')):\n",
    "        test_raw_data[col_name].fillna(test_raw_data[col_name].mean(), inplace=True)"
   ]
  },
  {
   "cell_type": "code",
   "execution_count": 25,
   "metadata": {
    "collapsed": false
   },
   "outputs": [
    {
     "data": {
      "text/html": [
       "<div>\n",
       "<table border=\"1\" class=\"dataframe\">\n",
       "  <thead>\n",
       "    <tr style=\"text-align: right;\">\n",
       "      <th></th>\n",
       "      <th>Feature_1</th>\n",
       "      <th>Feature_2</th>\n",
       "      <th>Feature_3</th>\n",
       "      <th>Feature_4</th>\n",
       "      <th>Feature_5</th>\n",
       "      <th>Feature_6</th>\n",
       "      <th>Feature_7</th>\n",
       "      <th>Feature_8</th>\n",
       "      <th>Feature_9</th>\n",
       "      <th>Feature_10</th>\n",
       "      <th>...</th>\n",
       "      <th>Feature_47_flag</th>\n",
       "      <th>Feature_48_flag</th>\n",
       "      <th>Feature_49_flag</th>\n",
       "      <th>Feature_50_flag</th>\n",
       "      <th>Feature_51_flag</th>\n",
       "      <th>Feature_52_flag</th>\n",
       "      <th>Feature_53_flag</th>\n",
       "      <th>Feature_54_flag</th>\n",
       "      <th>Feature_55_flag</th>\n",
       "      <th>Target</th>\n",
       "    </tr>\n",
       "  </thead>\n",
       "  <tbody>\n",
       "    <tr>\n",
       "      <th>0</th>\n",
       "      <td>-0.082425</td>\n",
       "      <td>0.127111</td>\n",
       "      <td>0.332527</td>\n",
       "      <td>0.123086</td>\n",
       "      <td>-0.300770</td>\n",
       "      <td>-0.002215</td>\n",
       "      <td>-0.118903</td>\n",
       "      <td>-1.325995</td>\n",
       "      <td>-6.631284e-13</td>\n",
       "      <td>-0.010424</td>\n",
       "      <td>...</td>\n",
       "      <td>0</td>\n",
       "      <td>1</td>\n",
       "      <td>0</td>\n",
       "      <td>0</td>\n",
       "      <td>1</td>\n",
       "      <td>0</td>\n",
       "      <td>1</td>\n",
       "      <td>0</td>\n",
       "      <td>0</td>\n",
       "      <td>1</td>\n",
       "    </tr>\n",
       "    <tr>\n",
       "      <th>1</th>\n",
       "      <td>-0.516935</td>\n",
       "      <td>-0.657969</td>\n",
       "      <td>-0.423185</td>\n",
       "      <td>-0.112894</td>\n",
       "      <td>0.273241</td>\n",
       "      <td>-0.002067</td>\n",
       "      <td>-0.118903</td>\n",
       "      <td>0.775258</td>\n",
       "      <td>-6.631284e-13</td>\n",
       "      <td>-0.004583</td>\n",
       "      <td>...</td>\n",
       "      <td>0</td>\n",
       "      <td>1</td>\n",
       "      <td>0</td>\n",
       "      <td>0</td>\n",
       "      <td>1</td>\n",
       "      <td>0</td>\n",
       "      <td>0</td>\n",
       "      <td>0</td>\n",
       "      <td>1</td>\n",
       "      <td>0</td>\n",
       "    </tr>\n",
       "    <tr>\n",
       "      <th>2</th>\n",
       "      <td>0.149320</td>\n",
       "      <td>-0.278374</td>\n",
       "      <td>-0.553370</td>\n",
       "      <td>-0.204604</td>\n",
       "      <td>0.589307</td>\n",
       "      <td>-0.002351</td>\n",
       "      <td>-0.118903</td>\n",
       "      <td>1.695687</td>\n",
       "      <td>1.583616e+00</td>\n",
       "      <td>-0.010407</td>\n",
       "      <td>...</td>\n",
       "      <td>0</td>\n",
       "      <td>0</td>\n",
       "      <td>0</td>\n",
       "      <td>0</td>\n",
       "      <td>0</td>\n",
       "      <td>0</td>\n",
       "      <td>0</td>\n",
       "      <td>1</td>\n",
       "      <td>1</td>\n",
       "      <td>0</td>\n",
       "    </tr>\n",
       "    <tr>\n",
       "      <th>3</th>\n",
       "      <td>-1.761833</td>\n",
       "      <td>-1.008883</td>\n",
       "      <td>-1.545531</td>\n",
       "      <td>-0.795354</td>\n",
       "      <td>-1.685710</td>\n",
       "      <td>-0.002424</td>\n",
       "      <td>-0.118903</td>\n",
       "      <td>0.108760</td>\n",
       "      <td>-2.091505e-01</td>\n",
       "      <td>-0.010520</td>\n",
       "      <td>...</td>\n",
       "      <td>0</td>\n",
       "      <td>1</td>\n",
       "      <td>0</td>\n",
       "      <td>0</td>\n",
       "      <td>0</td>\n",
       "      <td>0</td>\n",
       "      <td>0</td>\n",
       "      <td>0</td>\n",
       "      <td>1</td>\n",
       "      <td>0</td>\n",
       "    </tr>\n",
       "    <tr>\n",
       "      <th>4</th>\n",
       "      <td>-0.163537</td>\n",
       "      <td>-0.343035</td>\n",
       "      <td>-0.080191</td>\n",
       "      <td>-0.023187</td>\n",
       "      <td>0.379131</td>\n",
       "      <td>-0.002313</td>\n",
       "      <td>-0.118903</td>\n",
       "      <td>-0.417900</td>\n",
       "      <td>-1.461623e+00</td>\n",
       "      <td>-0.008521</td>\n",
       "      <td>...</td>\n",
       "      <td>0</td>\n",
       "      <td>1</td>\n",
       "      <td>0</td>\n",
       "      <td>1</td>\n",
       "      <td>0</td>\n",
       "      <td>0</td>\n",
       "      <td>0</td>\n",
       "      <td>1</td>\n",
       "      <td>1</td>\n",
       "      <td>0</td>\n",
       "    </tr>\n",
       "  </tbody>\n",
       "</table>\n",
       "<p>5 rows × 111 columns</p>\n",
       "</div>"
      ],
      "text/plain": [
       "   Feature_1  Feature_2  Feature_3  Feature_4  Feature_5  Feature_6  \\\n",
       "0  -0.082425   0.127111   0.332527   0.123086  -0.300770  -0.002215   \n",
       "1  -0.516935  -0.657969  -0.423185  -0.112894   0.273241  -0.002067   \n",
       "2   0.149320  -0.278374  -0.553370  -0.204604   0.589307  -0.002351   \n",
       "3  -1.761833  -1.008883  -1.545531  -0.795354  -1.685710  -0.002424   \n",
       "4  -0.163537  -0.343035  -0.080191  -0.023187   0.379131  -0.002313   \n",
       "\n",
       "   Feature_7  Feature_8     Feature_9  Feature_10   ...    Feature_47_flag  \\\n",
       "0  -0.118903  -1.325995 -6.631284e-13   -0.010424   ...                  0   \n",
       "1  -0.118903   0.775258 -6.631284e-13   -0.004583   ...                  0   \n",
       "2  -0.118903   1.695687  1.583616e+00   -0.010407   ...                  0   \n",
       "3  -0.118903   0.108760 -2.091505e-01   -0.010520   ...                  0   \n",
       "4  -0.118903  -0.417900 -1.461623e+00   -0.008521   ...                  0   \n",
       "\n",
       "   Feature_48_flag  Feature_49_flag  Feature_50_flag  Feature_51_flag  \\\n",
       "0                1                0                0                1   \n",
       "1                1                0                0                1   \n",
       "2                0                0                0                0   \n",
       "3                1                0                0                0   \n",
       "4                1                0                1                0   \n",
       "\n",
       "   Feature_52_flag  Feature_53_flag  Feature_54_flag  Feature_55_flag  Target  \n",
       "0                0                1                0                0       1  \n",
       "1                0                0                0                1       0  \n",
       "2                0                0                1                1       0  \n",
       "3                0                0                0                1       0  \n",
       "4                0                0                1                1       0  \n",
       "\n",
       "[5 rows x 111 columns]"
      ]
     },
     "execution_count": 25,
     "metadata": {},
     "output_type": "execute_result"
    }
   ],
   "source": [
    "train_raw_data.head()"
   ]
  },
  {
   "cell_type": "code",
   "execution_count": 26,
   "metadata": {
    "collapsed": false
   },
   "outputs": [
    {
     "data": {
      "text/html": [
       "<div>\n",
       "<table border=\"1\" class=\"dataframe\">\n",
       "  <thead>\n",
       "    <tr style=\"text-align: right;\">\n",
       "      <th></th>\n",
       "      <th>ID</th>\n",
       "      <th>Feature_1</th>\n",
       "      <th>Feature_2</th>\n",
       "      <th>Feature_3</th>\n",
       "      <th>Feature_4</th>\n",
       "      <th>Feature_5</th>\n",
       "      <th>Feature_6</th>\n",
       "      <th>Feature_7</th>\n",
       "      <th>Feature_8</th>\n",
       "      <th>Feature_9</th>\n",
       "      <th>...</th>\n",
       "      <th>Feature_46_flag</th>\n",
       "      <th>Feature_47_flag</th>\n",
       "      <th>Feature_48_flag</th>\n",
       "      <th>Feature_49_flag</th>\n",
       "      <th>Feature_50_flag</th>\n",
       "      <th>Feature_51_flag</th>\n",
       "      <th>Feature_52_flag</th>\n",
       "      <th>Feature_53_flag</th>\n",
       "      <th>Feature_54_flag</th>\n",
       "      <th>Feature_55_flag</th>\n",
       "    </tr>\n",
       "  </thead>\n",
       "  <tbody>\n",
       "    <tr>\n",
       "      <th>0</th>\n",
       "      <td>22824</td>\n",
       "      <td>-0.290187</td>\n",
       "      <td>0.488677</td>\n",
       "      <td>0.154181</td>\n",
       "      <td>0.245028</td>\n",
       "      <td>-0.325906</td>\n",
       "      <td>-0.001945</td>\n",
       "      <td>-0.118903</td>\n",
       "      <td>0.379649</td>\n",
       "      <td>-0.128187</td>\n",
       "      <td>...</td>\n",
       "      <td>0</td>\n",
       "      <td>0</td>\n",
       "      <td>0</td>\n",
       "      <td>0</td>\n",
       "      <td>0</td>\n",
       "      <td>0</td>\n",
       "      <td>0</td>\n",
       "      <td>0</td>\n",
       "      <td>1</td>\n",
       "      <td>1</td>\n",
       "    </tr>\n",
       "    <tr>\n",
       "      <th>1</th>\n",
       "      <td>17383</td>\n",
       "      <td>0.207090</td>\n",
       "      <td>0.052973</td>\n",
       "      <td>-0.040674</td>\n",
       "      <td>-0.035330</td>\n",
       "      <td>0.022315</td>\n",
       "      <td>-0.002347</td>\n",
       "      <td>-0.118903</td>\n",
       "      <td>0.109704</td>\n",
       "      <td>-0.049374</td>\n",
       "      <td>...</td>\n",
       "      <td>0</td>\n",
       "      <td>0</td>\n",
       "      <td>1</td>\n",
       "      <td>0</td>\n",
       "      <td>0</td>\n",
       "      <td>0</td>\n",
       "      <td>0</td>\n",
       "      <td>0</td>\n",
       "      <td>0</td>\n",
       "      <td>1</td>\n",
       "    </tr>\n",
       "    <tr>\n",
       "      <th>2</th>\n",
       "      <td>8743</td>\n",
       "      <td>0.631392</td>\n",
       "      <td>-0.109401</td>\n",
       "      <td>0.026074</td>\n",
       "      <td>-0.206174</td>\n",
       "      <td>0.096120</td>\n",
       "      <td>-0.002191</td>\n",
       "      <td>-0.118903</td>\n",
       "      <td>1.388045</td>\n",
       "      <td>1.245544</td>\n",
       "      <td>...</td>\n",
       "      <td>0</td>\n",
       "      <td>0</td>\n",
       "      <td>0</td>\n",
       "      <td>0</td>\n",
       "      <td>0</td>\n",
       "      <td>0</td>\n",
       "      <td>0</td>\n",
       "      <td>0</td>\n",
       "      <td>0</td>\n",
       "      <td>1</td>\n",
       "    </tr>\n",
       "    <tr>\n",
       "      <th>3</th>\n",
       "      <td>45258</td>\n",
       "      <td>0.000538</td>\n",
       "      <td>0.147305</td>\n",
       "      <td>0.004411</td>\n",
       "      <td>-0.035312</td>\n",
       "      <td>-0.267377</td>\n",
       "      <td>-0.002084</td>\n",
       "      <td>-0.118903</td>\n",
       "      <td>-1.401608</td>\n",
       "      <td>-0.128187</td>\n",
       "      <td>...</td>\n",
       "      <td>1</td>\n",
       "      <td>0</td>\n",
       "      <td>0</td>\n",
       "      <td>0</td>\n",
       "      <td>1</td>\n",
       "      <td>0</td>\n",
       "      <td>0</td>\n",
       "      <td>1</td>\n",
       "      <td>0</td>\n",
       "      <td>1</td>\n",
       "    </tr>\n",
       "    <tr>\n",
       "      <th>4</th>\n",
       "      <td>60474</td>\n",
       "      <td>-1.220941</td>\n",
       "      <td>-0.808174</td>\n",
       "      <td>-0.747683</td>\n",
       "      <td>-0.264087</td>\n",
       "      <td>-0.148779</td>\n",
       "      <td>-0.002446</td>\n",
       "      <td>-0.118903</td>\n",
       "      <td>-1.719372</td>\n",
       "      <td>-0.128187</td>\n",
       "      <td>...</td>\n",
       "      <td>0</td>\n",
       "      <td>1</td>\n",
       "      <td>1</td>\n",
       "      <td>0</td>\n",
       "      <td>0</td>\n",
       "      <td>1</td>\n",
       "      <td>1</td>\n",
       "      <td>0</td>\n",
       "      <td>1</td>\n",
       "      <td>0</td>\n",
       "    </tr>\n",
       "  </tbody>\n",
       "</table>\n",
       "<p>5 rows × 111 columns</p>\n",
       "</div>"
      ],
      "text/plain": [
       "      ID  Feature_1  Feature_2  Feature_3  Feature_4  Feature_5  Feature_6  \\\n",
       "0  22824  -0.290187   0.488677   0.154181   0.245028  -0.325906  -0.001945   \n",
       "1  17383   0.207090   0.052973  -0.040674  -0.035330   0.022315  -0.002347   \n",
       "2   8743   0.631392  -0.109401   0.026074  -0.206174   0.096120  -0.002191   \n",
       "3  45258   0.000538   0.147305   0.004411  -0.035312  -0.267377  -0.002084   \n",
       "4  60474  -1.220941  -0.808174  -0.747683  -0.264087  -0.148779  -0.002446   \n",
       "\n",
       "   Feature_7  Feature_8  Feature_9       ...         Feature_46_flag  \\\n",
       "0  -0.118903   0.379649  -0.128187       ...                       0   \n",
       "1  -0.118903   0.109704  -0.049374       ...                       0   \n",
       "2  -0.118903   1.388045   1.245544       ...                       0   \n",
       "3  -0.118903  -1.401608  -0.128187       ...                       1   \n",
       "4  -0.118903  -1.719372  -0.128187       ...                       0   \n",
       "\n",
       "   Feature_47_flag  Feature_48_flag  Feature_49_flag  Feature_50_flag  \\\n",
       "0                0                0                0                0   \n",
       "1                0                1                0                0   \n",
       "2                0                0                0                0   \n",
       "3                0                0                0                1   \n",
       "4                1                1                0                0   \n",
       "\n",
       "   Feature_51_flag  Feature_52_flag  Feature_53_flag  Feature_54_flag  \\\n",
       "0                0                0                0                1   \n",
       "1                0                0                0                0   \n",
       "2                0                0                0                0   \n",
       "3                0                0                1                0   \n",
       "4                1                1                0                1   \n",
       "\n",
       "   Feature_55_flag  \n",
       "0                1  \n",
       "1                1  \n",
       "2                1  \n",
       "3                1  \n",
       "4                0  \n",
       "\n",
       "[5 rows x 111 columns]"
      ]
     },
     "execution_count": 26,
     "metadata": {},
     "output_type": "execute_result"
    }
   ],
   "source": [
    "test_raw_data.head()"
   ]
  },
  {
   "cell_type": "code",
   "execution_count": 27,
   "metadata": {
    "collapsed": true
   },
   "outputs": [],
   "source": [
    "from sklearn.model_selection import train_test_split\n",
    "from sklearn.ensemble import RandomForestClassifier"
   ]
  },
  {
   "cell_type": "code",
   "execution_count": 29,
   "metadata": {
    "collapsed": true
   },
   "outputs": [],
   "source": [
    "train_X = train_raw_data.ix[:, :-1].values\n",
    "train_y = train_raw_data.ix[:, -1].values"
   ]
  },
  {
   "cell_type": "code",
   "execution_count": 33,
   "metadata": {
    "collapsed": false
   },
   "outputs": [],
   "source": [
    "X_train, X_test, y_train, y_test = train_test_split(train_X, train_y, test_size=0.3, random_state=1)"
   ]
  },
  {
   "cell_type": "code",
   "execution_count": 46,
   "metadata": {
    "collapsed": true
   },
   "outputs": [],
   "source": [
    "clf = RandomForestClassifier(n_estimators=200, max_depth=6, n_jobs=-1, verbose=1)"
   ]
  },
  {
   "cell_type": "code",
   "execution_count": 42,
   "metadata": {
    "collapsed": false
   },
   "outputs": [
    {
     "name": "stderr",
     "output_type": "stream",
     "text": [
      "[Parallel(n_jobs=-1)]: Done  42 tasks      | elapsed:    6.3s\n",
      "[Parallel(n_jobs=-1)]: Done 192 tasks      | elapsed:   29.8s\n",
      "[Parallel(n_jobs=-1)]: Done 200 out of 200 | elapsed:   31.1s finished\n"
     ]
    },
    {
     "data": {
      "text/plain": [
       "RandomForestClassifier(bootstrap=True, class_weight=None, criterion='gini',\n",
       "            max_depth=5, max_features='auto', max_leaf_nodes=None,\n",
       "            min_impurity_split=1e-07, min_samples_leaf=1,\n",
       "            min_samples_split=2, min_weight_fraction_leaf=0.0,\n",
       "            n_estimators=200, n_jobs=-1, oob_score=False,\n",
       "            random_state=None, verbose=1, warm_start=False)"
      ]
     },
     "execution_count": 42,
     "metadata": {},
     "output_type": "execute_result"
    }
   ],
   "source": [
    "clf.fit(X_train, y_train)"
   ]
  },
  {
   "cell_type": "code",
   "execution_count": 43,
   "metadata": {
    "collapsed": false
   },
   "outputs": [
    {
     "name": "stderr",
     "output_type": "stream",
     "text": [
      "[Parallel(n_jobs=4)]: Done  42 tasks      | elapsed:    0.1s\n",
      "[Parallel(n_jobs=4)]: Done 192 tasks      | elapsed:    0.6s\n",
      "[Parallel(n_jobs=4)]: Done 200 out of 200 | elapsed:    0.6s finished\n"
     ]
    }
   ],
   "source": [
    "pred_y = clf.predict_proba(X_test)"
   ]
  },
  {
   "cell_type": "code",
   "execution_count": 44,
   "metadata": {
    "collapsed": true
   },
   "outputs": [],
   "source": [
    "from sklearn.metrics import log_loss"
   ]
  },
  {
   "cell_type": "code",
   "execution_count": 45,
   "metadata": {
    "collapsed": false
   },
   "outputs": [
    {
     "data": {
      "text/plain": [
       "0.69251331616516687"
      ]
     },
     "execution_count": 45,
     "metadata": {},
     "output_type": "execute_result"
    }
   ],
   "source": [
    "log_loss(y_test, pred_y)"
   ]
  },
  {
   "cell_type": "code",
   "execution_count": 47,
   "metadata": {
    "collapsed": false
   },
   "outputs": [
    {
     "name": "stderr",
     "output_type": "stream",
     "text": [
      "[Parallel(n_jobs=-1)]: Done  42 tasks      | elapsed:   11.1s\n",
      "[Parallel(n_jobs=-1)]: Done 192 tasks      | elapsed:   48.3s\n",
      "[Parallel(n_jobs=-1)]: Done 200 out of 200 | elapsed:   50.5s finished\n"
     ]
    },
    {
     "data": {
      "text/plain": [
       "RandomForestClassifier(bootstrap=True, class_weight=None, criterion='gini',\n",
       "            max_depth=6, max_features='auto', max_leaf_nodes=None,\n",
       "            min_impurity_split=1e-07, min_samples_leaf=1,\n",
       "            min_samples_split=2, min_weight_fraction_leaf=0.0,\n",
       "            n_estimators=200, n_jobs=-1, oob_score=False,\n",
       "            random_state=None, verbose=1, warm_start=False)"
      ]
     },
     "execution_count": 47,
     "metadata": {},
     "output_type": "execute_result"
    }
   ],
   "source": [
    "clf.fit(train_X, train_y)"
   ]
  },
  {
   "cell_type": "code",
   "execution_count": 48,
   "metadata": {
    "collapsed": true
   },
   "outputs": [],
   "source": [
    "test_X = test_raw_data.ix[:, 1:].values"
   ]
  },
  {
   "cell_type": "code",
   "execution_count": 49,
   "metadata": {
    "collapsed": true
   },
   "outputs": [],
   "source": [
    "test_id = test_raw_data.ix[:, 0].values"
   ]
  },
  {
   "cell_type": "code",
   "execution_count": 50,
   "metadata": {
    "collapsed": false
   },
   "outputs": [
    {
     "name": "stderr",
     "output_type": "stream",
     "text": [
      "[Parallel(n_jobs=4)]: Done  42 tasks      | elapsed:    0.1s\n",
      "[Parallel(n_jobs=4)]: Done 192 tasks      | elapsed:    0.6s\n",
      "[Parallel(n_jobs=4)]: Done 200 out of 200 | elapsed:    0.6s finished\n"
     ]
    }
   ],
   "source": [
    "pred_y = clf.predict_proba(test_X)"
   ]
  },
  {
   "cell_type": "code",
   "execution_count": 51,
   "metadata": {
    "collapsed": false
   },
   "outputs": [
    {
     "data": {
      "text/plain": [
       "(63545, 2)"
      ]
     },
     "execution_count": 51,
     "metadata": {},
     "output_type": "execute_result"
    }
   ],
   "source": [
    "pred_y.shape"
   ]
  },
  {
   "cell_type": "code",
   "execution_count": 55,
   "metadata": {
    "collapsed": false
   },
   "outputs": [],
   "source": [
    "pred_y = pred_y[:, 1]"
   ]
  },
  {
   "cell_type": "code",
   "execution_count": 56,
   "metadata": {
    "collapsed": false
   },
   "outputs": [
    {
     "data": {
      "text/plain": [
       "(63545,)"
      ]
     },
     "execution_count": 56,
     "metadata": {},
     "output_type": "execute_result"
    }
   ],
   "source": [
    "pred_y.shape"
   ]
  },
  {
   "cell_type": "code",
   "execution_count": 57,
   "metadata": {
    "collapsed": false
   },
   "outputs": [
    {
     "data": {
      "text/plain": [
       "(63545,)"
      ]
     },
     "execution_count": 57,
     "metadata": {},
     "output_type": "execute_result"
    }
   ],
   "source": [
    "test_id.shape"
   ]
  },
  {
   "cell_type": "code",
   "execution_count": 70,
   "metadata": {
    "collapsed": true
   },
   "outputs": [],
   "source": [
    "result_path = os.path.join(data_dir, 'prediction.csv')"
   ]
  },
  {
   "cell_type": "code",
   "execution_count": 71,
   "metadata": {
    "collapsed": true
   },
   "outputs": [],
   "source": [
    "result_file = open(result_path, 'w')"
   ]
  },
  {
   "cell_type": "code",
   "execution_count": 72,
   "metadata": {
    "collapsed": false
   },
   "outputs": [],
   "source": [
    "head = '\"ID\",\"Target\"\\n'\n",
    "result_file.write(head)"
   ]
  },
  {
   "cell_type": "code",
   "execution_count": 73,
   "metadata": {
    "collapsed": true
   },
   "outputs": [],
   "source": [
    "for s_id, s_pro in zip(test_id, pred_y):\n",
    "    line = str(s_id) + ',' + str(s_pro) + '\\n'\n",
    "    result_file.write(line)"
   ]
  },
  {
   "cell_type": "code",
   "execution_count": 74,
   "metadata": {
    "collapsed": true
   },
   "outputs": [],
   "source": [
    "result_file.close()"
   ]
  },
  {
   "cell_type": "code",
   "execution_count": null,
   "metadata": {
    "collapsed": true
   },
   "outputs": [],
   "source": []
  }
 ],
 "metadata": {
  "anaconda-cloud": {},
  "kernelspec": {
   "display_name": "Python [default]",
   "language": "python",
   "name": "python2"
  },
  "language_info": {
   "codemirror_mode": {
    "name": "ipython",
    "version": 2
   },
   "file_extension": ".py",
   "mimetype": "text/x-python",
   "name": "python",
   "nbconvert_exporter": "python",
   "pygments_lexer": "ipython2",
   "version": "2.7.12"
  }
 },
 "nbformat": 4,
 "nbformat_minor": 1
}
